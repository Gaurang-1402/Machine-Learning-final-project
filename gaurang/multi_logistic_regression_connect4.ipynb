{
  "cells": [
    {
      "attachments": {},
      "cell_type": "markdown",
      "metadata": {},
      "source": [
        "## Import important libraries"
      ]
    },
    {
      "cell_type": "code",
      "execution_count": 1,
      "metadata": {},
      "outputs": [],
      "source": [
        "from sklearn.linear_model import LogisticRegression # importing Sklearn's logistic regression's module\n",
        "from sklearn.model_selection import train_test_split\n",
        "from sklearn.metrics import accuracy_score\n",
        "from sklearn import preprocessing # preprossing is what we do with the data before we run the learning algorithm\n",
        "from sklearn.model_selection import train_test_split \n",
        "import numpy as np\n",
        "from scipy.io import arff\n",
        "from sklearn.preprocessing import PolynomialFeatures\n",
        "import numpy as np\n",
        "from sklearn.metrics import confusion_matrix\n",
        "import seaborn as sns\n",
        "\n",
        "# import math\n",
        "\n",
        "import matplotlib.pyplot as plt\n",
        "%matplotlib inline"
      ]
    },
    {
      "cell_type": "code",
      "execution_count": 2,
      "metadata": {},
      "outputs": [],
      "source": [
        "# Load the .arff file\n",
        "connect_4_dataset = arff.loadarff('../connect-4.arff')\n",
        "\n",
        "# Convert to a numpy array\n",
        "data = np.asarray(connect_4_dataset[0].tolist(), dtype=np.float32)"
      ]
    },
    {
      "cell_type": "code",
      "execution_count": 3,
      "metadata": {},
      "outputs": [
        {
          "name": "stdout",
          "output_type": "stream",
          "text": [
            "X:(67557, 42)\n",
            "y:(67557, 1)\n"
          ]
        }
      ],
      "source": [
        "X = data[:, :-1]\n",
        "y = data[:, -1:]\n",
        "\n",
        "# Extract X values - 42 features\n",
        "print('X:' + str(X.shape))\n",
        "\n",
        "# Extract y values - 1 outcome\n",
        "print('y:' + str(y.shape))"
      ]
    },
    {
      "cell_type": "code",
      "execution_count": 4,
      "metadata": {},
      "outputs": [],
      "source": [
        "# Splitting the dataset \n",
        "\n",
        "X_train_val, X_test, y_train_val, y_test = train_test_split(\n",
        "    X, y,   \n",
        "    test_size = 0.07, random_state=10, shuffle=True\n",
        ")\n",
        "X_train, X_val, y_train, y_val = train_test_split(\n",
        "    X_train_val, y_train_val, \n",
        "    test_size = 0.07, random_state=10, shuffle=True\n",
        ")\n",
        "\n",
        "y_train = y_train.ravel()\n",
        "y_test = y_test.ravel()\n",
        "y_val = y_val.ravel()\n",
        "\n",
        "# ! No need to scale since the data is already the same scale"
      ]
    },
    {
      "cell_type": "code",
      "execution_count": 5,
      "metadata": {},
      "outputs": [
        {
          "name": "stdout",
          "output_type": "stream",
          "text": [
            "X_train:(58430, 42)\n",
            "y_train:(58430,)\n",
            "X_val: \t(4398, 42)\n",
            "y_val: \t(4398,)\n",
            "X_test: (4729, 42)\n",
            "y_test: (4729,)\n"
          ]
        }
      ],
      "source": [
        "# Check to make sure everything is as expected\n",
        "print('X_train:' + str(X_train.shape))\n",
        "print('y_train:' + str(y_train.shape))\n",
        "print('X_val: \\t'  + str(X_val.shape))\n",
        "print('y_val: \\t'  + str(y_val.shape))\n",
        "print('X_test: '  + str(X_test.shape))\n",
        "print('y_test: '  + str(y_test.shape))"
      ]
    },
    {
      "cell_type": "code",
      "execution_count": 6,
      "metadata": {},
      "outputs": [],
      "source": [
        "X_train = np.hstack((np.ones((X_train.shape[0], 1)), X_train))\n",
        "X_test = np.hstack((np.ones((X_test.shape[0], 1)), X_test))\n",
        "X_val = np.hstack((np.ones((X_val.shape[0], 1)), X_val))\n"
      ]
    },
    {
      "cell_type": "code",
      "execution_count": 9,
      "metadata": {},
      "outputs": [
        {
          "name": "stdout",
          "output_type": "stream",
          "text": [
            "X_train:(58430, 43)\n",
            "y_train:(58430,)\n",
            "X_val: \t(4398, 43)\n",
            "y_val: \t(4398,)\n",
            "X_test: (4729, 43)\n",
            "y_test: (4729,)\n"
          ]
        }
      ],
      "source": [
        "# Check to make sure everything is as expected\n",
        "print('X_train:' + str(X_train.shape))\n",
        "print('y_train:' + str(y_train.shape))\n",
        "print('X_val: \\t'  + str(X_val.shape))\n",
        "print('y_val: \\t'  + str(y_val.shape))\n",
        "print('X_test: '  + str(X_test.shape))\n",
        "print('y_test: '  + str(y_test.shape))"
      ]
    },
    {
      "attachments": {},
      "cell_type": "markdown",
      "metadata": {},
      "source": [
        "## Step x: One vs Rest encoding \n",
        "The original labels are '0', '1', '2'. Our SVM algorithm Pegasos expects the labels to be encoded as +1 and -1\n",
        "\n",
        "Here we encode one digit as 1, and we encode the other 2 digits as -1"
      ]
    },
    {
      "cell_type": "code",
      "execution_count": 10,
      "metadata": {},
      "outputs": [],
      "source": [
        "def one_vs_rest_encoding(y, digit = '0'):\n",
        "    y_encoded = np.where(y == int(digit), 1, -1)\n",
        "    return  y_encoded"
      ]
    },
    {
      "cell_type": "code",
      "execution_count": 11,
      "metadata": {},
      "outputs": [],
      "source": [
        "# Perform the encoding for step 1's task\n",
        "y_train_0_vs_rest = one_vs_rest_encoding(y_train, '0')\n",
        "y_val_0_vs_rest =  one_vs_rest_encoding(y_val, '0')"
      ]
    },
    {
      "cell_type": "code",
      "execution_count": 12,
      "metadata": {},
      "outputs": [
        {
          "name": "stdout",
          "output_type": "stream",
          "text": [
            "y_train_0_vs_rest: [-1  1 -1 ... -1 -1 -1]\n"
          ]
        }
      ],
      "source": [
        "print('y_train_0_vs_rest: ' + str(y_train_0_vs_rest))\n"
      ]
    },
    {
      "cell_type": "code",
      "execution_count": 13,
      "metadata": {},
      "outputs": [
        {
          "name": "stderr",
          "output_type": "stream",
          "text": [
            "c:\\Users\\gaura\\.conda\\envs\\intro_to_ml_class\\lib\\site-packages\\sklearn\\linear_model\\_logistic.py:458: ConvergenceWarning: lbfgs failed to converge (status=1):\n",
            "STOP: TOTAL NO. of ITERATIONS REACHED LIMIT.\n",
            "\n",
            "Increase the number of iterations (max_iter) or scale the data as shown in:\n",
            "    https://scikit-learn.org/stable/modules/preprocessing.html\n",
            "Please also refer to the documentation for alternative solver options:\n",
            "    https://scikit-learn.org/stable/modules/linear_model.html#logistic-regression\n",
            "  n_iter_i = _check_optimize_result(\n",
            "c:\\Users\\gaura\\.conda\\envs\\intro_to_ml_class\\lib\\site-packages\\sklearn\\linear_model\\_logistic.py:458: ConvergenceWarning: lbfgs failed to converge (status=1):\n",
            "STOP: TOTAL NO. of ITERATIONS REACHED LIMIT.\n",
            "\n",
            "Increase the number of iterations (max_iter) or scale the data as shown in:\n",
            "    https://scikit-learn.org/stable/modules/preprocessing.html\n",
            "Please also refer to the documentation for alternative solver options:\n",
            "    https://scikit-learn.org/stable/modules/linear_model.html#logistic-regression\n",
            "  n_iter_i = _check_optimize_result(\n",
            "c:\\Users\\gaura\\.conda\\envs\\intro_to_ml_class\\lib\\site-packages\\sklearn\\linear_model\\_logistic.py:458: ConvergenceWarning: lbfgs failed to converge (status=1):\n",
            "STOP: TOTAL NO. of ITERATIONS REACHED LIMIT.\n",
            "\n",
            "Increase the number of iterations (max_iter) or scale the data as shown in:\n",
            "    https://scikit-learn.org/stable/modules/preprocessing.html\n",
            "Please also refer to the documentation for alternative solver options:\n",
            "    https://scikit-learn.org/stable/modules/linear_model.html#logistic-regression\n",
            "  n_iter_i = _check_optimize_result(\n"
          ]
        }
      ],
      "source": [
        "# Create the 3 classifiers\n",
        "labels = \"012\"\n",
        "w_vals = {}\n",
        "val_scores = {}\n",
        "for i in range(len(labels)):\n",
        "    # Note that each section may require more than one line of code.\n",
        "\n",
        "    # Perform one-vs-rest for labels[i]\n",
        "    # To do: Relabel the y labels in the train set to either 1 or -1 using one_vs_rest_encoding\n",
        "    y_encoded = one_vs_rest_encoding(y_train, labels[i])\n",
        "\n",
        "    poly = PolynomialFeatures(3) # * generate all types of polynomial features up to degree d\n",
        "    X_tr_poly = poly.fit_transform(X_train) # * transforms the training data to have those polynomial features\n",
        "    \n",
        "    logreg = LogisticRegression()\n",
        "    logreg.fit(X_tr_poly, y_encoded)\n",
        "    \n",
        "    w_vals[i] = logreg.coef_\n",
        "    ## TODO add intercept to w_vals[i]\n",
        "    # w_vals[i] = np.append(w_vals[i], svm_algo.intercept_)\n",
        "            \n",
        "    X_val_poly = poly.transform(X_val) # * transforms the validation data to have those polynomial features\n",
        "\n",
        "    y_pred_val = logreg.predict(X_val_poly)\n",
        "\n",
        "    y_encoded_val = one_vs_rest_encoding(y_val, labels[i])\n",
        "\n",
        "\n",
        "    # compute the accuracy of the classifier\n",
        "    val_accuracy = accuracy_score(y_encoded_val, y_pred_val)\n",
        "\n",
        "    val_scores[i] = val_accuracy\n"
      ]
    },
    {
      "cell_type": "code",
      "execution_count": 14,
      "metadata": {},
      "outputs": [
        {
          "name": "stdout",
          "output_type": "stream",
          "text": [
            "0 : score: 0.9047294224647567\n",
            "1 : score: 0.870168258299227\n",
            "2 : score: 0.848112778535698\n"
          ]
        }
      ],
      "source": [
        "# Check your work. With the proper amount of iterations, your values should range from 0.95 to 0.99  \n",
        "for i in range(len(labels)):\n",
        "     print(i,\": score:\", val_scores[i])"
      ]
    },
    {
      "cell_type": "code",
      "execution_count": 21,
      "metadata": {},
      "outputs": [],
      "source": [
        "# To do: Predict the label for each example in the validation set \n",
        "# We will let eval be a numpy array of length N, where N is the number of examples in the validation set. \n",
        "# eval1 will hold either a 1 or a 0, depending if the handwritten digit was predicted correctly or not.\n",
        "eval1 = np.zeros(len(y_val))\n",
        "\n",
        "# To do: Loop through each sample in the validation set and assign it a label based on the highest score. \n",
        "# Store either a 1 if the number was predicted correctly, or a 0 if the number was predicted incorrectly.\n",
        "for i in range(len(X_val)):\n",
        "    \n",
        "    label_scores = np.zeros(len(labels))\n",
        "    \n",
        "    for j in range(len(labels)):\n",
        "        X_val_i_2d = X_val_poly[i].reshape(1, -1)  # reshape X_val to a 2D array with shape (1, 43)\n",
        "        label_scores[j] = X_val_i_2d @ w_vals[j].T\n",
        "    \n",
        "    index_label_max_score = np.argmax(label_scores) # get the index of the label with the highest score\n",
        "\n",
        "    if int(labels[index_label_max_score]) == int(y_val[i]):\n",
        "        eval1[i] = 1\n",
        "    else:\n",
        "        eval1[i] = 0"
      ]
    },
    {
      "cell_type": "code",
      "execution_count": 29,
      "metadata": {},
      "outputs": [
        {
          "name": "stdout",
          "output_type": "stream",
          "text": [
            "Accuracy Score: 80.83%\n"
          ]
        }
      ],
      "source": [
        "# Print the accuracy score as a percentage\n",
        "print(\"Accuracy Score: {:.2%}\".format(accuracy))"
      ]
    },
    {
      "cell_type": "code",
      "execution_count": 26,
      "metadata": {},
      "outputs": [
        {
          "data": {
            "image/png": "[encoded data removed]",
            "text/plain": [
              "<Figure size 640x480 with 2 Axes>"
            ]
          },
          "metadata": {},
          "output_type": "display_data"
        }
      ],
      "source": [
        "\n",
        "# Create the confusion matrix\n",
        "conf_mat = confusion_matrix(y_val, eval1)\n",
        "\n",
        "# Visualize the confusion matrix\n",
        "sns.heatmap(conf_mat, annot=True, fmt='d', cmap='Greens')\n",
        "plt.xlabel('Predicted label')\n",
        "plt.ylabel('True label')\n",
        "plt.show()\n"
      ]
    },
    {
      "cell_type": "code",
      "execution_count": 18,
      "metadata": {},
      "outputs": [
        {
          "name": "stdout",
          "output_type": "stream",
          "text": [
            "              precision    recall  f1-score   support\n",
            "\n",
            "         0.0       0.40      0.85      0.55       401\n",
            "         1.0       0.21      0.74      0.33      1031\n",
            "         2.0       0.00      0.00      0.00      2966\n",
            "\n",
            "    accuracy                           0.25      4398\n",
            "   macro avg       0.21      0.53      0.29      4398\n",
            "weighted avg       0.09      0.25      0.13      4398\n",
            "\n"
          ]
        },
        {
          "name": "stderr",
          "output_type": "stream",
          "text": [
            "c:\\Users\\gaura\\.conda\\envs\\intro_to_ml_class\\lib\\site-packages\\sklearn\\metrics\\_classification.py:1344: UndefinedMetricWarning: Precision and F-score are ill-defined and being set to 0.0 in labels with no predicted samples. Use `zero_division` parameter to control this behavior.\n",
            "  _warn_prf(average, modifier, msg_start, len(result))\n",
            "c:\\Users\\gaura\\.conda\\envs\\intro_to_ml_class\\lib\\site-packages\\sklearn\\metrics\\_classification.py:1344: UndefinedMetricWarning: Precision and F-score are ill-defined and being set to 0.0 in labels with no predicted samples. Use `zero_division` parameter to control this behavior.\n",
            "  _warn_prf(average, modifier, msg_start, len(result))\n",
            "c:\\Users\\gaura\\.conda\\envs\\intro_to_ml_class\\lib\\site-packages\\sklearn\\metrics\\_classification.py:1344: UndefinedMetricWarning: Precision and F-score are ill-defined and being set to 0.0 in labels with no predicted samples. Use `zero_division` parameter to control this behavior.\n",
            "  _warn_prf(average, modifier, msg_start, len(result))\n"
          ]
        }
      ],
      "source": [
        "from sklearn.metrics import classification_report\n",
        "\n",
        "# Print the classification report\n",
        "print(classification_report(y_val, eval1))\n"
      ]
    }
  ],
  "metadata": {
    "kernelspec": {
      "display_name": "intro_to_ml_class",
      "language": "python",
      "name": "python3"
    },
    "language_info": {
      "codemirror_mode": {
        "name": "ipython",
        "version": 3
      },
      "file_extension": ".py",
      "mimetype": "text/x-python",
      "name": "python",
      "nbconvert_exporter": "python",
      "pygments_lexer": "ipython3",
      "version": "3.8.8"
    },
    "orig_nbformat": 4
  },
  "nbformat": 4,
  "nbformat_minor": 2
}
