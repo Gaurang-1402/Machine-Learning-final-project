{
 "cells": [
  {
   "cell_type": "markdown",
   "metadata": {},
   "source": [
    "# Neural Network from Scratch\n",
    "The following neural network code was adapted from http://adventuresinmachinelearning.com/neural-networks-tutorial/; however, the website is no longer accessible.\n",
    "\n",
    "The notation that was used in this website is almost the same as the notation we are using in class.  Instead of using $a$ for activations the author uses $h$, and instead of $N$ for the number of training examples, the author uses $m$. (I have modified the code below to use $a$ and $N$.)\n"
   ]
  },
  {
   "attachments": {},
   "cell_type": "markdown",
   "metadata": {},
   "source": [
    "#  Your assignment:\n",
    "\n",
    "Modify the neural network implementation below (it is the same implementation that we discussed in class) to see if you can improve the performance by trying the following:\n",
    "\n",
    "\n",
    "* Add a regularization term to the cost function. \n",
    "$$ J(W,b)\n",
    "= \\frac{1}{N}\n",
    "{\\Big [}\\sum_{i=1}^N\n",
    " J(W,b,{\\bf x}^{(i)},y^{(i)}){\\Big ]}\n",
    "+ \\frac{\\lambda}{2}\\sum_{\\ell}\\sum_{i}\\sum_j (W^{(\\ell)}_{ij})^2$$\n",
    "\n",
    "The partial derivative would be: \n",
    "$$\\frac{\\partial J(W,b)}{\\partial W^{(\\ell)}_{ij}}\n",
    "= \\frac{1}{N}\n",
    "{\\Big [}\\sum_{i=1}^N\n",
    "\\frac{\\partial J(W,b,{\\bf x}^{(i)},y^{(i)})}{\\partial W^{(\\ell)}_{ij}} {\\Big ]}\n",
    "+ {\\lambda} W^{(\\ell)}_{ij}$$ where ${\\bf x}^{(i)},y^{(i)}$ are the $i$th training example.  <br><br>\n",
    "\n",
    "* Try using the **ReLU** activation function, $f(z) = \\max(0,z)$. You will notice it is not differentiable at $0$, but you can use: $f'(z) = 0$ if $z<0$ and $f'(z)=1$ if $z\\ge 0$.  (You can also try using the **leaky ReLU** activation function.)  For more information see https://www.kaggle.com/dansbecker/rectified-linear-units-relu-in-deep-learning.  (The performance of the ReLU may surprise you.) <br><br>\n",
    "\n",
    "* Try using the **tanh** activation function, $f(z) = \\frac{e^z-e^{-z}}{e^z+e^{-z}}$.  The derivative of **tanh** is $f'(z)=1-(f(z))^2$.  For more information see http://ufldl.stanford.edu/tutorial/supervised/MultiLayerNeuralNetworks/ <br><br>\n",
    "* Try using the one of the other activation functions **ELU** (exponential linear unit) $ELU_{\\alpha}(z)= \n",
    "\\begin{cases}  \\alpha(\\exp (z)-1) & \\text{if } z<  0 \\\\ z & \\text{if } z\\ge 0 \\end{cases}$\n",
    "* Try changing the number of iterations\n",
    "* Try changing the number of hidden layers\n",
    "* Try initializing the weights using one of the techniques mentioned in the lecture\n",
    "\n",
    "\n",
    "For each of the modifications about, describe your experience (i.e. what did you try and how well did it peform).  What gave the best performance?\n"
   ]
  },
  {
   "cell_type": "markdown",
   "metadata": {},
   "source": [
    "## The first thing we will do is import all the libraries\n",
    "\n",
    "We will be using the lower resolution MINST data set"
   ]
  },
  {
   "cell_type": "code",
   "execution_count": null,
   "metadata": {},
   "outputs": [],
   "source": [
    "from sklearn.datasets import load_digits # The MNIST data set is in scikit learn data set\n",
    "from sklearn.preprocessing import StandardScaler  # It is important in neural networks to scale the date\n",
    "from sklearn.model_selection import train_test_split  # The standard - train/test to prevent overfitting and choose hyperparameters\n",
    "from sklearn.metrics import accuracy_score # \n",
    "import numpy as np\n",
    "import numpy.random as r # We will randomly initialize our weights\n",
    "import matplotlib.pyplot as plt "
   ]
  },
  {
   "cell_type": "markdown",
   "metadata": {},
   "source": [
    "## Looking at the data\n",
    "\n",
    "After we load the data, we print the shape of the data and a pixelated digit.\n",
    "\n",
    "We also show what the features of one example looks like.\n",
    "\n",
    "The neural net will learn to estimate which digit these pixels represent."
   ]
  },
  {
   "cell_type": "code",
   "execution_count": null,
   "metadata": {},
   "outputs": [],
   "source": [
    "digits=load_digits()\n",
    "X = digits.data\n",
    "print(\"The shape of the digits dataset:\") \n",
    "print(digits.data.shape)\n",
    "plt.gray()\n",
    "plt.matshow(digits.images[0])\n",
    "plt.show()\n",
    "y = digits.target\n",
    "print(y[0:1])\n",
    "print(X[0,:])"
   ]
  },
  {
   "cell_type": "markdown",
   "metadata": {},
   "source": [
    "## 1) Scale the dataset\n",
    "The training features range from 0 to 15.  To help the algorithm converge, we will scale the data to have a mean of 0 and unit variance"
   ]
  },
  {
   "cell_type": "code",
   "execution_count": null,
   "metadata": {},
   "outputs": [],
   "source": [
    "X_scale = StandardScaler()\n",
    "X = X_scale.fit_transform(digits.data)\n",
    "\n",
    "X[0,:] # Looking the new features after scaling"
   ]
  },
  {
   "cell_type": "markdown",
   "metadata": {},
   "source": [
    "## 2) Creating training and test datasets\n",
    "We split the data into training and test data sets. We will train the neural network with the training dataset, and evaluate our neural network with the test dataset "
   ]
  },
  {
   "cell_type": "code",
   "execution_count": null,
   "metadata": {},
   "outputs": [],
   "source": [
    "#Split the data into training and test set.  60% training and %40 test\n",
    "X_train, X_test, y_train, y_test = train_test_split(X, y, test_size=0.4)"
   ]
  },
  {
   "cell_type": "markdown",
   "metadata": {},
   "source": [
    "## 3) Setting up the output layer"
   ]
  },
  {
   "cell_type": "markdown",
   "metadata": {},
   "source": [
    "### One-vs-all encoding\n",
    "Our target is an integer in the range [0,..,9], so we will have 10 output neuron's in our network.  \n",
    "\n",
    "-  If  $y=0$, we want the output neurons to have the values $(1,0,0,0,0,0,0,0,0,0)$\n",
    "\n",
    "-  If  $y=1$ we want the output neurons to have the values $(0,1,0,0,0,0,0,0,0,0)$\n",
    "-  etc\n",
    "\n",
    "Thus we need to change our target so it is the same as our hoped for output of the neural network.  \n",
    "-  If $y=0$ we change it into the vector $(1,0,0,0,0,0,0,0,0,0)$. \n",
    "-  If $y=1$ we change it into the vector $(0,1,0,0,0,0,0,0,0,0)$\n",
    "-  etc\n",
    "\n",
    "See page 29 from the website listed above\n",
    "\n",
    "The code to covert the target vector."
   ]
  },
  {
   "cell_type": "code",
   "execution_count": null,
   "metadata": {},
   "outputs": [],
   "source": [
    "def convert_y_to_vect(y):\n",
    "    y_vect = np.zeros((len(y), 10))\n",
    "    for i in range(len(y)):\n",
    "        y_vect[i, y[i]] = 1\n",
    "    return y_vect"
   ]
  },
  {
   "cell_type": "markdown",
   "metadata": {},
   "source": [
    "Converting the training and test targets to vectors "
   ]
  },
  {
   "cell_type": "code",
   "execution_count": null,
   "metadata": {},
   "outputs": [],
   "source": [
    "# convert digits to vectors\n",
    "y_v_train = convert_y_to_vect(y_train)\n",
    "y_v_test = convert_y_to_vect(y_test)"
   ]
  },
  {
   "cell_type": "markdown",
   "metadata": {},
   "source": [
    "A quick check to see that our code performs as we expect "
   ]
  },
  {
   "cell_type": "code",
   "execution_count": null,
   "metadata": {},
   "outputs": [],
   "source": [
    "print(y_train[0:4])\n",
    "print(y_v_train[0:4])"
   ]
  },
  {
   "cell_type": "markdown",
   "metadata": {},
   "source": [
    "## 4) Creating the neural network"
   ]
  },
  {
   "cell_type": "markdown",
   "metadata": {},
   "source": [
    "### The activation function and its derivative\n",
    "\n",
    "We will use the sigmoid activation function:  $f(z)=\\frac{1}{1+e^{-z}}$\n",
    "\n",
    "The deriviative of the sigmoid function is: $f'(z) = f(z)(1-f(z))$ "
   ]
  },
  {
   "cell_type": "code",
   "execution_count": null,
   "metadata": {},
   "outputs": [],
   "source": [
    "def sigmoid(z):\n",
    "    return 1 / (1 + np.exp(-z))\n",
    "\n",
    "def sigmoid_deriv(z):\n",
    "    return sigmoid(z) * (1 - sigmoid(z))\n",
    "\n",
    "def relu(z):\n",
    "    return np.maximum(0, z)\n",
    "\n",
    "def relu_deriv(z):\n",
    "    return np.where(z > 0, 1, 0)\n",
    "\n",
    "alpha = 0.01\n",
    "\n",
    "def leaky_relu(z):\n",
    "    return np.where(z > 0, z, z * alpha)\n",
    "\n",
    "def leaky_relu_deriv(z):\n",
    "    return np.where(z > 0, 1, alpha)\n",
    "\n",
    "def tanh(z):\n",
    "    return np.tanh(z)\n",
    "\n",
    "def tanh_deriv(z):\n",
    "    return 1.0 - np.tanh(z)**2\n",
    "\n",
    "def elu(z):\n",
    "    return np.where(z >= 0, z, alpha * (np.exp(z) - 1))\n",
    "\n",
    "def elu_deriv(z):\n",
    "    return np.where(z >= 0, 1, alpha * np.exp(z))\n",
    "\n",
    "\n",
    "\n",
    "f = tanh\n",
    "f_deriv = tanh_deriv"
   ]
  },
  {
   "cell_type": "markdown",
   "metadata": {},
   "source": [
    "### Creating and initialing W and b\n",
    "We want the weights in W to be different so that during back propagation the nodes on a level will have different gradients and thus have different update values.\n",
    "\n",
    "We want the  weights to be small values, since the sigmoid is almost \"flat\" for large inputs.\n",
    "\n",
    "Next is the code that assigns each weight a number uniformly drawn from $[0.0, 1.0)$.  The code assumes that the number of neurons in each level is in the python list *nn_structure*.\n",
    "\n",
    "In the code, the weights, $W^{(\\ell)}$ and $b^{(\\ell)}$ are held in a python dictionary"
   ]
  },
  {
   "cell_type": "code",
   "execution_count": null,
   "metadata": {},
   "outputs": [],
   "source": [
    "def setup_and_init_weights_default(nn_structure):\n",
    "    W = {} #creating a dictionary i.e. a set of key: value pairs\n",
    "    b = {}\n",
    "    for l in range(1, len(nn_structure)):\n",
    "        W[l] = r.random_sample((nn_structure[l], nn_structure[l-1])) #Return “continuous uniform” random floats in the half-open interval [0.0, 1.0). \n",
    "        b[l] = r.random_sample((nn_structure[l],))\n",
    "    return W, b\n",
    "\n",
    "def setup_and_init_weights_uniform(nn_structure):\n",
    "    W = {}\n",
    "    b = {}\n",
    "    bound = np.sqrt(6 / (nn_structure[0] + nn_structure[-1])) * 4\n",
    "    for l in range(1, len(nn_structure)):\n",
    "        W[l] = (r.random_sample((nn_structure[l], nn_structure[l-1])) * bound * 2) - bound\n",
    "        b[l] = (r.random_sample((nn_structure[l],)) * bound * 2) - bound\n",
    "    return W, b\n",
    "\n",
    "def setup_and_init_weights_normal(nn_structure):\n",
    "    W = {}\n",
    "    b = {}\n",
    "    sigma = np.sqrt(6 / (nn_structure[0] + nn_structure[-1])) * 4\n",
    "    for l in range(1, len(nn_structure)):\n",
    "        W[l] = r.normal(0, sigma, (nn_structure[l], nn_structure[l-1]))\n",
    "        b[l] = r.normal(0, sigma, (nn_structure[l],))\n",
    "    return W, b\n",
    "\n",
    "\n",
    "setup_and_init_weights = setup_and_init_weights_default"
   ]
  },
  {
   "cell_type": "markdown",
   "metadata": {},
   "source": [
    "### Initializing $\\triangledown W$ and $\\triangledown b$\n",
    "Creating $\\triangledown W^{(\\ell)}$ and $\\triangledown b^{(\\ell)}$ to have the same size as $W^{(\\ell)}$ and $b^{(\\ell)}$, and setting $\\triangledown W^{(\\ell)}$, and  $\\triangledown b^{(\\ell)}$ to zero"
   ]
  },
  {
   "cell_type": "code",
   "execution_count": null,
   "metadata": {},
   "outputs": [],
   "source": [
    "def init_tri_values(nn_structure):\n",
    "    tri_W = {}\n",
    "    tri_b = {}\n",
    "    for l in range(1, len(nn_structure)):\n",
    "        tri_W[l] = np.zeros((nn_structure[l], nn_structure[l-1]))\n",
    "        tri_b[l] = np.zeros((nn_structure[l],))\n",
    "    return tri_W, tri_b"
   ]
  },
  {
   "cell_type": "markdown",
   "metadata": {},
   "source": [
    "## Feed forward\n",
    "Perform a forward pass throught the network.  The function returns the values of $a$ and $z$"
   ]
  },
  {
   "cell_type": "code",
   "execution_count": null,
   "metadata": {},
   "outputs": [],
   "source": [
    "def feed_forward(x, W, b):\n",
    "    a = {1: x} # create a dictionary for holding the a values for all levels\n",
    "    z = { } # create a dictionary for holding the z values for all the layers\n",
    "    for l in range(1, len(W) + 1): # for each layer\n",
    "        node_in = a[l]\n",
    "        z[l+1] = W[l].dot(node_in) + b[l]  # z^(l+1) = W^(l)*a^(l) + b^(l)\n",
    "        a[l+1] = f(z[l+1]) # a^(l+1) = f(z^(l+1))\n",
    "    return a, z"
   ]
  },
  {
   "cell_type": "markdown",
   "metadata": {},
   "source": [
    "## Compute $\\delta$\n",
    "The code below compute $\\delta^{(s_l)}$ in a function called \"calculate_out_layer_delta\",  and  computes $\\delta^{(\\ell)}$ for the hidden layers in the function called \"calculate_hidden_delta\".  \n",
    "\n",
    "If we wanted to have a different cost function, we would change the \"calculate_out_layer_delta\" function.\n"
   ]
  },
  {
   "cell_type": "code",
   "execution_count": null,
   "metadata": {},
   "outputs": [],
   "source": [
    "def calculate_out_layer_delta(y, a_out, z_out):\n",
    "    # delta^(nl) = -(y_i - a_i^(nl)) * f'(z_i^(nl))\n",
    "    return -(y-a_out) * f_deriv(z_out) \n",
    "\n",
    "\n",
    "def calculate_hidden_delta(delta_plus_1, w_l, z_l):\n",
    "    # delta^(l) = (transpose(W^(l)) * delta^(l+1)) * f'(z^(l))\n",
    "    return np.dot(np.transpose(w_l), delta_plus_1) * f_deriv(z_l)"
   ]
  },
  {
   "cell_type": "markdown",
   "metadata": {},
   "source": [
    "## The Back Propagation Algorithm\n"
   ]
  },
  {
   "cell_type": "code",
   "execution_count": null,
   "metadata": {},
   "outputs": [],
   "source": [
    "def train_nn(nn_structure, X, y, iter_num=3000, alpha=0.25, lam=0.0):\n",
    "    W, b = setup_and_init_weights(nn_structure)\n",
    "    cnt = 0\n",
    "    N = len(y)\n",
    "    avg_cost_func = []\n",
    "    print('Starting gradient descent for {} iterations'.format(iter_num))\n",
    "    while cnt < iter_num:\n",
    "        if cnt%1000 == 0:\n",
    "            print('Iteration {} of {}'.format(cnt, iter_num))\n",
    "        tri_W, tri_b = init_tri_values(nn_structure)\n",
    "        avg_cost = 0\n",
    "        for i in range(N):\n",
    "            delta = {}\n",
    "            # perform the feed forward pass and return the stored a and z values, to be used in the\n",
    "            # gradient descent step\n",
    "            a, z = feed_forward(X[i, :], W, b)\n",
    "            # loop from nl-1 to 1 backpropagating the errors\n",
    "            for l in range(len(nn_structure), 0, -1):\n",
    "                if l == len(nn_structure):\n",
    "                    delta[l] = calculate_out_layer_delta(y[i,:], a[l], z[l])\n",
    "                    avg_cost += np.linalg.norm((y[i,:]-a[l]))\n",
    "                else:\n",
    "                    if l > 1:\n",
    "                        delta[l] = calculate_hidden_delta(delta[l+1], W[l], z[l])\n",
    "                    # triW^(l) = triW^(l) + delta^(l+1) * transpose(a^(l))\n",
    "                    tri_W[l] += np.dot(delta[l+1][:,np.newaxis], np.transpose(a[l][:,np.newaxis])) # np.newaxis increase the number of dimensions\n",
    "                    # trib^(l) = trib^(l) + delta^(l+1)\n",
    "                    tri_b[l] += delta[l+1]\n",
    "        # perform the gradient descent step for the weights in each layer\n",
    "        for l in range(len(nn_structure) - 1, 0, -1):\n",
    "            W[l] += -alpha * (1.0/N * tri_W[l] + lam * W[l])\n",
    "            b[l] += -alpha * (1.0/N * tri_b[l])\n",
    "        # complete the average cost calculation\n",
    "        avg_cost = 1.0/N * avg_cost + lam/2.0 * sum([np.sum(W[l]**2) for l in W])\n",
    "        avg_cost_func.append(avg_cost)\n",
    "        cnt += 1\n",
    "    return W, b, avg_cost_func\n",
    "\n",
    "\n",
    "def predict_y(W, b, X, n_layers):\n",
    "    N = X.shape[0]\n",
    "    y = np.zeros((N,))\n",
    "    for i in range(N):\n",
    "        a, z = feed_forward(X[i, :], W, b)\n",
    "        y[i] = np.argmax(a[n_layers])\n",
    "    return y"
   ]
  },
  {
   "cell_type": "markdown",
   "metadata": {},
   "source": [
    "## Running the neural network\n",
    "\n",
    "Our code assumes the size of each layer in our network is held in a list.  The input layer will have 64 neurons (one for each pixel in our 8 by 8 pixelated digit).  Our hidden layer has 30 neurons (you can change this value).  The output layer has 10 neurons.\n",
    "\n",
    "Next we create the python list to hold the number of neurons for each level and then run the neural network code with our training data.\n",
    "\n",
    "This code will take some time..."
   ]
  },
  {
   "cell_type": "code",
   "execution_count": null,
   "metadata": {},
   "outputs": [],
   "source": [
    "nn_structure = [64, 20, 10]\n",
    "    \n",
    "# train the NN\n",
    "W, b, avg_cost_func = train_nn(nn_structure, X_train, y_v_train, iter_num=30000, alpha=0.25, lam=0.01)\n",
    "print('Done')"
   ]
  },
  {
   "cell_type": "markdown",
   "metadata": {},
   "source": [
    "### Plotting the learning curve\n"
   ]
  },
  {
   "cell_type": "code",
   "execution_count": null,
   "metadata": {},
   "outputs": [],
   "source": [
    "# plot the avg_cost_func\n",
    "plt.plot(avg_cost_func)\n",
    "plt.ylabel('Average J')\n",
    "plt.xlabel('Iteration number')\n",
    "plt.show()"
   ]
  },
  {
   "cell_type": "markdown",
   "metadata": {},
   "source": [
    "## 5) Assessing accuracy\n",
    "Next we determine what percentage the neural network correctly predicted the handwritten digit correctly on the test set"
   ]
  },
  {
   "cell_type": "code",
   "execution_count": null,
   "metadata": {},
   "outputs": [],
   "source": [
    "# get the prediction accuracy and print\n",
    "y_pred = predict_y(W, b, X_test, 3)\n",
    "print('Prediction accuracy is {}%'.format(accuracy_score(y_test, y_pred) * 100))"
   ]
  },
  {
   "cell_type": "code",
   "execution_count": null,
   "metadata": {},
   "outputs": [],
   "source": [
    "'''\n",
    "lams = [\n",
    "    0,\n",
    "    0.001,\n",
    "    0.01,\n",
    "    0.1,\n",
    "    1.0,\n",
    "]\n",
    "for lam in lams:\n",
    "    W, b, avg_cost_func = train_nn(nn_structure, X_train, y_v_train, iter_num=3000, alpha=0.25, lam=lam)\n",
    "    plt.plot(avg_cost_func)\n",
    "    plt.ylabel('Average J')\n",
    "    plt.xlabel('Iteration number')\n",
    "    plt.title('lambda = {}'.format(lam))\n",
    "    plt.show()\n",
    "    y_pred = predict_y(W, b, X_test, 3)\n",
    "    print('Prediction accuracy for lambda = {} is {}%'.format(lam, accuracy_score(y_test, y_pred) * 100))\n",
    "'''  "
   ]
  },
  {
   "attachments": {},
   "cell_type": "markdown",
   "metadata": {},
   "source": [
    "## My notes and conclusions\n",
    "\n",
    "#### 1. Adding normalization\n",
    "\n",
    "- Added normalization\n",
    "  - lam=0 , acc: 88.54\n",
    "  - lam=0.0001 , acc: 84.98\n",
    "  - lam=0.0005 , acc: 91.38\n",
    "  - lam=0.001 , acc: 94.16\n",
    "  - lam=0.005 , acc: 85.11\n",
    "  - lam=0.01 , acc: 73.30\n",
    "  - lam=0.1 , acc: 9.45\n",
    "  - lam=1.0 , acc: 8.344\n",
    "  - lam=10.0 , acc: 10.85\n",
    "  - lam=100.0 , acc: 9.60\n",
    "\n",
    "#### 2. ReLU\n",
    "\n",
    "- Replaced activations with ReLU\n",
    "  - lan=0m acc: 9.74\n",
    "  - lam=0.001, acc: 11.82\n",
    "  - lam=0.01, acc: 9.04\n",
    "  - lam=0.1, acc: 10.57\n",
    "  - lam=1.0, acc: 11.96\n",
    "  - lam=10.0, acc: 9.59\n",
    "  - lam=100.0, acc: 9.74\n",
    "\n",
    "#### 3. Leaky ReLU\n",
    "\n",
    "- Replaced activations with Leaky ReLU\n",
    "  - lam=0, acc: 10.29\n",
    "  - lam=0.001, acc: 11.54\n",
    "  - lam=0.1, acc: 11.54\n",
    "  - lam=1.0, acc: 11.54\n",
    "  - lam=100.0, acc: 11.54\n",
    "- I do not know why these values came out to be the same, but the code seems correct and does not produce the same values for other activation functions. ¯\\_(ツ)\\_/¯\n",
    "\n",
    "#### 4. Tanh\n",
    "\n",
    "- Replaced activations with Tanh\n",
    "  - lam=0, acc: 83.45\n",
    "  - lam=0.001, acc: 92.35\n",
    "  - lam=0.01, acc: 95.97\n",
    "  - lam=0.1, acc: 91.64\n",
    "  - lam=1.0, acc: 8.34\n",
    "  - lam=100.0, acc: 9.18\n",
    "\n",
    "#### 5. ELU\n",
    "\n",
    "- Replaced activations with ELU\n",
    "  - lam=0, acc: 8.62\n",
    "  - lam=0.001, acc: 8.62\n",
    "  - lam=0.01, acc: 10.57\n",
    "  - lam=0.1, acc: 9.87\n",
    "  - lam=1.0, acc: 10.01\n",
    "\n",
    "#### 6. Number of iterations\n",
    "\n",
    "- I found that sigmoid with lam=0.001 and tanh with lam=0.01 performed the best, so I used those for the next tests.\n",
    "  - sigmoid, 3_000 iterations, lam=0.001, acc: 94.16\n",
    "  - sigmoid, 10_000 iterations, lam=0.001, acc: 96.24\n",
    "  - tanh, 3_000 iterations, lam=0.01, acc: 95.97\n",
    "  - tanh, 10_000 iterations, lam=0.01, acc: 96.11\n",
    "  - tanh, 30_000 iterations, lam=0.01, acc: 98.19\n",
    "- It was impractical to continute above 10_000 iterations for sigmoid, so I moved on\n",
    "\n",
    "#### 7. Changing the number of hidden layers\n",
    "\n",
    "- tanh, as described above, did the best, and was faster to train, so I went with that\n",
    "  - lam=0.001, [64, 30, 20, 10], 3_000 iters, acc: 7.37\n",
    "  - lam=0.001, [64, 30, 30, 10], 3_000 iters, acc: 3.89\n",
    "  - lam=0.001, [64, 30, 10], 3_000 iters, acc: 91.93\n",
    "  - lam=0.001, [64, 40, 10], 3_000 iters, acc: 91.93\n",
    "  - lam=0.001, [64, 20, 10] 3_000 iters, acc: 91.52\n",
    "  - lam=0.001, [64, 20, 20, 10] 3_000 iters, acc: 7.64\n",
    "  - lam=0.001, [64, 20, 10] 10_000 iters, acc: 95.83\n",
    "  - lam=0.01, [64, 20, 10] 30_000 iters, acc: 97.50\n",
    "- so adding more layers makes it worse, and changing the hidden layer makes it worse. sticking with [64, 30, 10]\n",
    "\n",
    "#### 8. Changing weight initialization\n",
    "\n",
    "- Using tanh, lam=0.01, [64, 30, 10], 10_000 iters\n",
    "  - default, acc: 96.11\n",
    "  - uniorm, acc: 95.55\n",
    "  - normal, acc: 96.52\n",
    "\n",
    "#### 9. Conclusion\n",
    "\n",
    "- tanh, lam=0.01, [64, 30, 10], with normal weight initialization resulted in the best accuracy\n",
    "  - At 10_000 iterations, the accuracy was 96.52\n",
    "  - At 30_000, the accuracy was up to 98\n",
    "  - Higher iterations may improve performance, but at such a high accuracy already it is unlikely\n"
   ]
  },
  {
   "cell_type": "markdown",
   "metadata": {},
   "source": []
  }
 ],
 "metadata": {
  "kernelspec": {
   "display_name": "Python 3 (ipykernel)",
   "language": "python",
   "name": "python3"
  },
  "language_info": {
   "codemirror_mode": {
    "name": "ipython",
    "version": 3
   },
   "file_extension": ".py",
   "mimetype": "text/x-python",
   "name": "python",
   "nbconvert_exporter": "python",
   "pygments_lexer": "ipython3",
   "version": "3.10.6"
  }
 },
 "nbformat": 4,
 "nbformat_minor": 2
}
