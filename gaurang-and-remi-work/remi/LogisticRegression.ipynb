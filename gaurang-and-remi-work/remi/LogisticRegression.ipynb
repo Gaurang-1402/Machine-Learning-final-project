{
 "cells": [
  {
   "cell_type": "code",
   "execution_count": 183,
   "metadata": {},
   "outputs": [],
   "source": [
    "import numpy as np\n",
    "import pandas as pd\n",
    "from scipy.io import arff\n",
    "from sklearn import preprocessing\n",
    "from sklearn.model_selection import train_test_split\n",
    "import matplotlib.pyplot as plt"
   ]
  },
  {
   "cell_type": "code",
   "execution_count": 184,
   "metadata": {},
   "outputs": [
    {
     "name": "stdout",
     "output_type": "stream",
     "text": [
      "[[0. 0. 0. ... 0. 0. 2.]\n",
      " [0. 0. 0. ... 0. 0. 2.]\n",
      " [0. 0. 0. ... 0. 0. 2.]\n",
      " ...\n",
      " [2. 2. 0. ... 0. 0. 1.]\n",
      " [2. 1. 0. ... 2. 0. 0.]\n",
      " [2. 1. 1. ... 0. 0. 0.]]\n"
     ]
    }
   ],
   "source": [
    "# Load the .arff file\n",
    "loaded = arff.loadarff('../connect-4.arff')\n",
    "\n",
    "# Convert to a numpy array\n",
    "data = np.asarray(loaded[0].tolist(), dtype=np.float32)\n",
    "\n",
    "# Print the array\n",
    "print(data)"
   ]
  },
  {
   "cell_type": "code",
   "execution_count": 185,
   "metadata": {},
   "outputs": [],
   "source": [
    "X = data[:, :-1]\n",
    "y = data[:, -1:]\n",
    "\n",
    "# quick fix to make y be 0 or 1\n",
    "y = np.where(y == 2, 1, 0)"
   ]
  },
  {
   "cell_type": "code",
   "execution_count": 186,
   "metadata": {},
   "outputs": [
    {
     "name": "stdout",
     "output_type": "stream",
     "text": [
      "(60801, 84)\n"
     ]
    }
   ],
   "source": [
    "# split into one-hot encoding\n",
    "X_one_hot = np.where(X == 1, 1, 0), np.where(X == 2, 1, 0)\n",
    "X = np.hstack(X_one_hot)\n",
    "\n",
    "# regular train-test split algorithm\n",
    "X_train, X_test, y_train, y_test = train_test_split(X, y, test_size=0.1, random_state=42)\n",
    "\n",
    "print(X_train.shape)\n",
    "\n",
    "X_train = np.hstack((np.ones((X_train.shape[0], 1)), X_train))\n",
    "X_test = np.hstack((np.ones((X_test.shape[0], 1)), X_test))"
   ]
  },
  {
   "cell_type": "code",
   "execution_count": 187,
   "metadata": {},
   "outputs": [],
   "source": [
    "def sigmoid(z):\n",
    "    return np.clip(1 / (1 + np.exp(-z)), 1e-8, 1 - 1e-8)\n",
    "\n",
    "def hypothesis(X, w):\n",
    "    return sigmoid(np.dot(X, w))\n",
    "\n",
    "def log_likelihood(X: np.ndarray, y: np.ndarray, w: np.ndarray, lam: float):\n",
    "    preds = hypothesis(X, w)\n",
    "    term1 = y * np.log(preds)\n",
    "    term2 = (1-y) * np.log(1-preds)\n",
    "    combined = term1 + term2\n",
    "    return np.ndarray.sum(combined) - np.ndarray.sum(abs(w)) * lam\n",
    "\n",
    "def predict_class(X, w, t):\n",
    "    hyp = hypothesis(X, w)\n",
    "    return np.where(hyp >= t, 1, 0)\n",
    "\n",
    "def precision_recall(X, w, y, t):\n",
    "    y_hat = predict_class(X, w, t)\n",
    "\n",
    "    # Calculate false positive and false negative\n",
    "    # HINT: if done correctly, false_pos should be 1 and false_neg should be 1\n",
    "    false_pos = np.where(y - y_hat == -1, 1, 0).sum()\n",
    "    false_neg = np.where(y - y_hat == 1, 1, 0).sum()\n",
    "\n",
    "    # Calculate true positive and true negatives\n",
    "    # HINT: if done correctly, true_pos should be 88\n",
    "    true_pos = np.where(y + y_hat == 2, 1, 0).sum()\n",
    "\n",
    "    precision = true_pos / (true_pos + false_pos)\n",
    "    recall = true_pos / (true_pos + false_neg)\n",
    "    return precision, recall\n",
    "\n",
    "def f1_score(X, w, y, t):\n",
    "        precision, recall = precision_recall(X, w, y, t)\n",
    "        return (2 * precision * recall) / (precision + recall)\n",
    "\n",
    "def Gradient_Ascent(X, y, learning_rate, num_iters, lam, threshold=0.5):\n",
    "    w = np.zeros((X.shape[1],1))\n",
    "    \n",
    "    scores = []\n",
    "    # Gradient Ascent - local optimization technique\n",
    "    for i in range(num_iters):\n",
    "        hyp = hypothesis(X, w)\n",
    "        gradient = np.dot(X.T, y - hyp) - lam * np.sign(w)\n",
    "        w += learning_rate * gradient\n",
    "\n",
    "        if i % 10 == 0:\n",
    "            scores.append(f1_score(X, w, y, threshold))\n",
    "        \n",
    "    return w, scores"
   ]
  },
  {
   "cell_type": "code",
   "execution_count": 188,
   "metadata": {},
   "outputs": [],
   "source": [
    "learning_rate = 0.00001\n",
    "num_iters = 1000\n",
    "l1_lambda = 1\n",
    "poly_dim = 1\n",
    "\n",
    "# transformation\n",
    "poly = preprocessing.PolynomialFeatures(poly_dim)\n",
    "X_train = poly.fit_transform(X_train)\n",
    "X_test = poly.transform(X_test)\n",
    "\n",
    "w, scores = Gradient_Ascent(X_train, y_train, learning_rate, num_iters, l1_lambda, 0.56)"
   ]
  },
  {
   "cell_type": "code",
   "execution_count": 189,
   "metadata": {},
   "outputs": [
    {
     "data": {
      "image/png": "[encoded data removed]",
      "text/plain": [
       "<Figure size 640x480 with 1 Axes>"
      ]
     },
     "metadata": {},
     "output_type": "display_data"
    }
   ],
   "source": [
    "iters = np.array(range(0,num_iters,10))\n",
    "plt.plot(iters,scores,'.-',color='green')\n",
    "plt.xlabel('Number of iterations')\n",
    "plt.ylabel('Score')\n",
    "plt.title(\"Score vs Number of Iterations.\")\n",
    "plt.grid()\n",
    "plt.show(block=False)"
   ]
  },
  {
   "cell_type": "code",
   "execution_count": 190,
   "metadata": {},
   "outputs": [
    {
     "name": "stdout",
     "output_type": "stream",
     "text": [
      "log likelihood training: -26910.5269878939\n",
      "avg log likelihood:      -0.4426000721681206\n",
      "log likelihood test:     -3008.7090633262014\n",
      "avg log likelihood:      -0.44533881932004166\n",
      "\n",
      "false pos:               711\n",
      "false neg:               720\n",
      "true pos:                3765\n",
      "\n",
      "precision:               0.8411528150134048\n",
      "recall:                  0.8394648829431438\n",
      "f1_score:                0.8394557823129253\n"
     ]
    }
   ],
   "source": [
    "print('log likelihood training:', log_likelihood(X_train, y_train, w, l1_lambda))\n",
    "print('avg log likelihood:     ', log_likelihood(X_train, y_train, w, l1_lambda) / X_train.shape[0])\n",
    "\n",
    "print('log likelihood test:    ', log_likelihood(X_test, y_test, w, l1_lambda))\n",
    "print('avg log likelihood:     ', log_likelihood(X_test, y_test, w, l1_lambda) / X_test.shape[0])\n",
    "print()\n",
    "\n",
    "y_hat = predict_class(X_test, w, 0.56)\n",
    "false_pos = np.where(y_test - y_hat == -1, 1, 0).sum()\n",
    "false_neg = np.where(y_test - y_hat == 1, 1, 0).sum()\n",
    "true_pos = np.where(y_test + y_hat == 2, 1, 0).sum()\n",
    "print('false pos:              ', false_pos)\n",
    "print('false neg:              ', false_neg)\n",
    "print('true pos:               ', true_pos)\n",
    "print()\n",
    "\n",
    "precision, recall = precision_recall(X_test, w, y_test, 0.56)\n",
    "print('precision:              ', precision)\n",
    "print('recall:                 ', recall)\n",
    "print('f1_score:               ', f1_score(X_test, w, y_test, 0.3))"
   ]
  },
  {
   "cell_type": "code",
   "execution_count": null,
   "metadata": {},
   "outputs": [],
   "source": []
  }
 ],
 "metadata": {
  "kernelspec": {
   "display_name": "Python 3",
   "language": "python",
   "name": "python3"
  },
  "language_info": {
   "codemirror_mode": {
    "name": "ipython",
    "version": 3
   },
   "file_extension": ".py",
   "mimetype": "text/x-python",
   "name": "python",
   "nbconvert_exporter": "python",
   "pygments_lexer": "ipython3",
   "version": "3.10.6"
  },
  "orig_nbformat": 4
 },
 "nbformat": 4,
 "nbformat_minor": 2
}
