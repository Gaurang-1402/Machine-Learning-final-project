{
 "cells": [
  {
   "cell_type": "code",
   "execution_count": 10,
   "metadata": {},
   "outputs": [],
   "source": [
    "import numpy as np"
   ]
  },
  {
   "cell_type": "code",
   "execution_count": 11,
   "metadata": {},
   "outputs": [],
   "source": [
    "w1 = np.array([[1, 2], [3, 4]])\n",
    "w2 = np.array([[1, 2]])\n",
    "b1 = np.array([1, -1])\n",
    "b2 = np.array([1])\n",
    "x = np.array([[1, 0], [0, 1]])\n",
    "y = np.array([[1], [0]])"
   ]
  },
  {
   "cell_type": "code",
   "execution_count": 12,
   "metadata": {},
   "outputs": [],
   "source": [
    "def sigmoid(x):\n",
    "    return 1 / (1 + np.exp(-x))\n",
    "\n",
    "def sigmoid_prime(x):\n",
    "    return sigmoid(x) * (1 - sigmoid(x))\n",
    "\n",
    "def relu(x):\n",
    "    return np.maximum(0, x)\n",
    "\n",
    "def relu_prime(x):\n",
    "    return np.where(x > 0, 1, 0)"
   ]
  },
  {
   "cell_type": "code",
   "execution_count": 13,
   "metadata": {},
   "outputs": [
    {
     "name": "stdout",
     "output_type": "stream",
     "text": [
      "\n",
      "z2\n",
      "[[2 2]\n",
      " [3 3]]\n",
      "\n",
      "a2\n",
      "[[2 2]\n",
      " [3 3]]\n"
     ]
    }
   ],
   "source": [
    "# forward prop\n",
    "print(\"\\nz2\")\n",
    "z2 = np.dot(x, w1.T) + b1\n",
    "print(z2)\n",
    "print(\"\\na2\")\n",
    "a2 = relu(z2)\n",
    "print(a2)"
   ]
  },
  {
   "cell_type": "code",
   "execution_count": 14,
   "metadata": {},
   "outputs": [
    {
     "name": "stdout",
     "output_type": "stream",
     "text": [
      "\n",
      "z3\n",
      "[[ 7]\n",
      " [10]]\n",
      "\n",
      "a3\n",
      "[[0.99908895]\n",
      " [0.9999546 ]]\n"
     ]
    }
   ],
   "source": [
    "print(\"\\nz3\")\n",
    "z3 = np.dot(a2, w2.T) + b2\n",
    "print(z3)\n",
    "print(\"\\na3\")\n",
    "a3 = sigmoid(z3)\n",
    "print(a3)"
   ]
  },
  {
   "cell_type": "code",
   "execution_count": 15,
   "metadata": {},
   "outputs": [
    {
     "name": "stdout",
     "output_type": "stream",
     "text": [
      "\n",
      "delta3\n",
      "[[-8.29258093e-07]\n",
      " [ 4.53937469e-05]]\n",
      "\n",
      "dJdW2\n",
      "[[0.00013452 0.00013452]]\n"
     ]
    }
   ],
   "source": [
    "# backward prop\n",
    "print(\"\\ndelta3\")\n",
    "delta3 = (a3 - y) * sigmoid_prime(z3)\n",
    "print(delta3)\n",
    "print(\"\\ndJdW2\")\n",
    "dJdW2 = np.dot(delta3.T, a2)\n",
    "print(dJdW2)"
   ]
  },
  {
   "cell_type": "code",
   "execution_count": 16,
   "metadata": {},
   "outputs": [
    {
     "name": "stdout",
     "output_type": "stream",
     "text": [
      "\n",
      "delta2\n",
      "[[-8.29258093e-07 -1.65851619e-06]\n",
      " [ 4.53937469e-05  9.07874937e-05]]\n",
      "\n",
      "dJdW1\n",
      "[[-8.29258093e-07  4.53937469e-05]\n",
      " [-1.65851619e-06  9.07874937e-05]]\n"
     ]
    }
   ],
   "source": [
    "print(\"\\ndelta2\")\n",
    "delta2 = np.dot(delta3, w2) * relu_prime(z2)\n",
    "print(delta2)\n",
    "print(\"\\ndJdW1\")\n",
    "dJdW1 = np.dot(delta2.T, x)\n",
    "print(dJdW1)"
   ]
  },
  {
   "cell_type": "code",
   "execution_count": 17,
   "metadata": {},
   "outputs": [
    {
     "name": "stdout",
     "output_type": "stream",
     "text": [
      "dJdb1\n",
      "[4.45644888e-05 8.91289775e-05]\n",
      "dJdb2\n",
      "[4.45644888e-05]\n"
     ]
    }
   ],
   "source": [
    "print(\"dJdb1\")\n",
    "dJdb1 = np.sum(delta2, axis=0)\n",
    "print(dJdb1)\n",
    "print(\"dJdb2\")\n",
    "dJdb2 = np.sum(delta3, axis=0)\n",
    "print(dJdb2)"
   ]
  },
  {
   "cell_type": "code",
   "execution_count": 18,
   "metadata": {},
   "outputs": [
    {
     "name": "stdout",
     "output_type": "stream",
     "text": [
      "\n",
      "w1\n",
      "[[1.00000083 1.99995461]\n",
      " [3.00000166 3.99990921]]\n",
      "\n",
      "w2\n",
      "[[0.99986548 1.99986548]]\n",
      "\n",
      "b1\n",
      "[ 0.99995544 -1.00008913]\n",
      "\n",
      "b2\n",
      "[0.99995544]\n"
     ]
    }
   ],
   "source": [
    "alpha = 1\n",
    "\n",
    "w1 = w1 - alpha * dJdW1\n",
    "w2 = w2 - alpha * dJdW2\n",
    "b1 = b1 - alpha * dJdb1\n",
    "b2 = b2 - alpha * dJdb2\n",
    "\n",
    "print(\"\\nw1\")\n",
    "print(w1)\n",
    "print(\"\\nb1\")\n",
    "print(b1)\n",
    "print(\"\\nw2\")\n",
    "print(w2)\n",
    "print(\"\\nb2\")\n",
    "print(b2)"
   ]
  },
  {
   "cell_type": "code",
   "execution_count": null,
   "metadata": {},
   "outputs": [],
   "source": []
  }
 ],
 "metadata": {
  "kernelspec": {
   "display_name": "Python 3",
   "language": "python",
   "name": "python3"
  },
  "language_info": {
   "codemirror_mode": {
    "name": "ipython",
    "version": 3
   },
   "file_extension": ".py",
   "mimetype": "text/x-python",
   "name": "python",
   "nbconvert_exporter": "python",
   "pygments_lexer": "ipython3",
   "version": "3.10.6"
  },
  "orig_nbformat": 4
 },
 "nbformat": 4,
 "nbformat_minor": 2
}
