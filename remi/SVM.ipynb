{
 "cells": [
  {
   "cell_type": "code",
   "execution_count": 6,
   "metadata": {},
   "outputs": [],
   "source": [
    "import numpy as np\n",
    "from matplotlib import pyplot\n",
    "from sklearn.datasets import fetch_openml\n",
    "from sklearn import preprocessing\n",
    "from sklearn.model_selection import train_test_split\n",
    "from scipy.io import arff"
   ]
  },
  {
   "cell_type": "code",
   "execution_count": 7,
   "metadata": {},
   "outputs": [
    {
     "name": "stdout",
     "output_type": "stream",
     "text": [
      "5804.1\n",
      "(17412, 42) (50145, 42) (17412,) (50145,)\n",
      "5804\n",
      "5804\n",
      "5804\n"
     ]
    }
   ],
   "source": [
    "# Load the .arff file\n",
    "loaded = arff.loadarff('../connect-4.arff')\n",
    "\n",
    "# Convert to a numpy array\n",
    "data = np.asarray(loaded[0].tolist(), dtype=np.float32)\n",
    "X = data[:, :-1]\n",
    "y = data[:, -1]\n",
    "\n",
    "X_zeros = X[y == 0]\n",
    "y_zeros = y[y == 0]\n",
    "X_ones = X[y == 1]\n",
    "y_ones = y[y == 1]\n",
    "X_twos = X[y == 2]\n",
    "y_twos = y[y == 2]\n",
    "\n",
    "# how many of each class the training set should have\n",
    "# 90% of the smallest class\n",
    "amount_per_class = (min(len(y_zeros), len(y_ones), len(y_twos))) * 0.9\n",
    "print(amount_per_class)\n",
    "\n",
    "X_zeros_train, X_zeros_test, y_zeros_train, y_zeros_test = train_test_split(\n",
    "    X_zeros, y_zeros,\n",
    "    test_size=1-(amount_per_class/len(y_zeros)),\n",
    "    random_state=10, shuffle=True\n",
    ")\n",
    "X_ones_train, X_ones_test, y_ones_train, y_ones_test = train_test_split(\n",
    "    X_ones, y_ones,\n",
    "    test_size=1-(amount_per_class/len(y_ones)),\n",
    "    random_state=10, shuffle=True\n",
    ")\n",
    "X_twos_train, X_twos_test, y_twos_train, y_twos_test = train_test_split(\n",
    "    X_twos, y_twos,\n",
    "    test_size=1-(amount_per_class/len(y_twos)),\n",
    "    random_state=10, shuffle=True\n",
    ")\n",
    "\n",
    "X_train = np.concatenate((X_zeros_train, X_ones_train, X_twos_train))\n",
    "y_train = np.concatenate((y_zeros_train, y_ones_train, y_twos_train))\n",
    "X_val = np.concatenate((X_zeros_test, X_ones_test, X_twos_test))\n",
    "y_val = np.concatenate((y_zeros_test, y_ones_test, y_twos_test))\n",
    "\n",
    "'''X_train_val, X_test, y_train_val, y_test = train_test_split(\n",
    "    X, y,   \n",
    "    test_size = 0.07, random_state=10, shuffle=True\n",
    ")\n",
    "\n",
    "X_train, X_val, y_train, y_val = train_test_split(\n",
    "    X, y, \n",
    "    test_size = 0.7, stratify=np.array([0.33, 0.33, 0.34]),\n",
    "    random_state=10, shuffle=True\n",
    ")'''\n",
    "\n",
    "print(X_train.shape, X_val.shape, y_train.shape, y_val.shape)\n",
    "for i in range(3):\n",
    "    print((y_train == i).sum())"
   ]
  },
  {
   "attachments": {},
   "cell_type": "markdown",
   "metadata": {},
   "source": [
    "#### The SVM objective function: \n",
    "$\\min \\lambda/2 \\lVert {\\bf w}\\rVert_2^2 + \\sum_{i=1}^N\\max(0,1-y^{(i)}({\\bf w}^T{\\bf x}^{(i)}+w_0)$ where $w_0=0$."
   ]
  },
  {
   "cell_type": "code",
   "execution_count": 8,
   "metadata": {},
   "outputs": [],
   "source": [
    "def svm_objective(w, X, y, lambda1=.1):\n",
    "    result = 0.5 * lambda1 * np.dot(w, w.T) + np.sum(np.maximum(0, 1 - y * np.dot(X, w)))\n",
    "    return result"
   ]
  },
  {
   "cell_type": "code",
   "execution_count": 9,
   "metadata": {},
   "outputs": [],
   "source": [
    "def pegasos(X_train, y_train, lambda1=0.08, num_iters = 3):\n",
    "    N = X_train.shape[0]\n",
    "    d = X_train.shape[1]\n",
    "\n",
    "    t = 0\n",
    "    w = np.ones((d,))\n",
    "    svm_scores = []\n",
    "\n",
    "    np.random.seed(10)\n",
    "    randoms = np.random.randint(0, N, size=(num_iters, N))\n",
    "    for iter in range(num_iters):\n",
    "        svm_scores.append(svm_objective(w, X_train, y_train, lambda1))\n",
    "        print('Iteration %d. J: %.6f' % (iter, svm_scores[-1]))\n",
    "\n",
    "        for i in range (N):\n",
    "            r = randoms[iter][i]\n",
    "            t = t + 1\n",
    "            alpha = 1/(lambda1*t)\n",
    "            if (y_train[r] * np.dot(w, X_train[r]) >= 1):\n",
    "                w = w - alpha * lambda1 * w\n",
    "            else:\n",
    "                w = w - alpha * (lambda1 * w - (y_train[r] * X_train[r]))\n",
    "        \n",
    "    return w, svm_scores"
   ]
  },
  {
   "cell_type": "code",
   "execution_count": 10,
   "metadata": {},
   "outputs": [
    {
     "name": "stdout",
     "output_type": "stream",
     "text": [
      "Iteration 0. J: 5989728.354750\n",
      "Iteration 1. J: 8169867.810224\n",
      "Iteration 2. J: 3700701.286115\n",
      "Iteration 3. J: 2758834.071956\n",
      "Iteration 4. J: 1702859.162831\n",
      "Iteration 5. J: 1345308.888595\n",
      "Iteration 6. J: 1341795.926469\n",
      "Iteration 7. J: 797440.168804\n",
      "Iteration 8. J: 803686.142544\n",
      "Iteration 9. J: 677313.904649\n",
      "Iteration 10. J: 613861.252563\n",
      "Iteration 11. J: 843224.528611\n",
      "Iteration 12. J: 588836.931315\n",
      "Iteration 13. J: 549370.364757\n",
      "Iteration 14. J: 498666.500822\n",
      "Iteration 15. J: 533578.935758\n",
      "Iteration 16. J: 427262.613536\n",
      "Iteration 17. J: 392908.159675\n",
      "Iteration 18. J: 435405.577027\n",
      "Iteration 19. J: 341299.455029\n",
      "Iteration 20. J: 312780.090184\n",
      "Iteration 21. J: 265456.036545\n",
      "Iteration 22. J: 268341.939843\n",
      "Iteration 23. J: 254501.427810\n",
      "Iteration 24. J: 299311.714850\n",
      "Iteration 25. J: 257227.811181\n",
      "Iteration 26. J: 236248.352279\n",
      "Iteration 27. J: 241235.914559\n",
      "Iteration 28. J: 266080.547826\n",
      "Iteration 29. J: 209885.948745\n",
      "\n",
      "Iteration 0. J: 5989728.354750\n",
      "Iteration 1. J: 6734019.864455\n",
      "Iteration 2. J: 2447549.376341\n",
      "Iteration 3. J: 1569844.824553\n",
      "Iteration 4. J: 1199761.447336\n",
      "Iteration 5. J: 1146758.003785\n",
      "Iteration 6. J: 658383.877736\n",
      "Iteration 7. J: 638441.129110\n",
      "Iteration 8. J: 497051.026074\n",
      "Iteration 9. J: 506889.184436\n",
      "Iteration 10. J: 438712.964880\n",
      "Iteration 11. J: 353349.965897\n",
      "Iteration 12. J: 401668.093984\n",
      "Iteration 13. J: 286936.724649\n",
      "Iteration 14. J: 362870.252261\n",
      "Iteration 15. J: 278955.146386\n",
      "Iteration 16. J: 309551.652075\n",
      "Iteration 17. J: 297084.307734\n",
      "Iteration 18. J: 181219.540978\n",
      "Iteration 19. J: 274829.199846\n",
      "Iteration 20. J: 236643.162671\n",
      "Iteration 21. J: 182762.809708\n",
      "Iteration 22. J: 194227.735758\n",
      "Iteration 23. J: 179954.059782\n",
      "Iteration 24. J: 225597.548468\n",
      "Iteration 25. J: 145287.552664\n",
      "Iteration 26. J: 180069.755126\n",
      "Iteration 27. J: 157878.605434\n",
      "Iteration 28. J: 126976.439184\n",
      "Iteration 29. J: 146143.769207\n",
      "\n",
      "Iteration 0. J: 5989728.354750\n",
      "Iteration 1. J: 5792268.410501\n",
      "Iteration 2. J: 2329223.263409\n",
      "Iteration 3. J: 1313649.538118\n",
      "Iteration 4. J: 1226225.014580\n",
      "Iteration 5. J: 708622.243690\n",
      "Iteration 6. J: 723122.438158\n",
      "Iteration 7. J: 637342.680611\n",
      "Iteration 8. J: 523749.521353\n",
      "Iteration 9. J: 469906.066474\n",
      "Iteration 10. J: 444188.405932\n",
      "Iteration 11. J: 545713.125642\n",
      "Iteration 12. J: 263997.493625\n",
      "Iteration 13. J: 284306.003779\n",
      "Iteration 14. J: 222189.761382\n",
      "Iteration 15. J: 240816.196483\n",
      "Iteration 16. J: 215690.271248\n",
      "Iteration 17. J: 231475.545207\n",
      "Iteration 18. J: 207464.034614\n",
      "Iteration 19. J: 203680.563620\n",
      "Iteration 20. J: 160576.378584\n",
      "Iteration 21. J: 152848.576915\n",
      "Iteration 22. J: 218497.210808\n",
      "Iteration 23. J: 160068.537646\n",
      "Iteration 24. J: 139442.676607\n",
      "Iteration 25. J: 166187.132514\n",
      "Iteration 26. J: 163129.479234\n",
      "Iteration 27. J: 100219.512813\n",
      "Iteration 28. J: 176641.418251\n",
      "Iteration 29. J: 116754.220209\n",
      "\n",
      "0 : score: 0.7490477614916742\n",
      "1 : score: 0.8080965200917339\n",
      "2 : score: 0.7346894007378602\n"
     ]
    }
   ],
   "source": [
    "w_vals= {}\n",
    "svm_scores = {}\n",
    "val_scores = {}\n",
    "lam = 0.05\n",
    "num_iters = 100\n",
    "threshold = 0.5\n",
    "poly_degree = 3\n",
    "\n",
    "poly = preprocessing.PolynomialFeatures(poly_degree)\n",
    "X_train = poly.fit_transform(X_train)\n",
    "#X_test = poly.transform(X_test)\n",
    "X_val = poly.transform(X_val)\n",
    "\n",
    "for i in range(3):\n",
    "    y_encoded = np.where(y_train == i, 1, -1)\n",
    "    w_vals[i], svm_scores[i]  = pegasos(X_train, y_encoded, lam, num_iters)\n",
    "\n",
    "    y_val_encoded = np.where(y_val == i, 1, -1)\n",
    "    guesses = np.where(np.dot(X_val, w_vals[i]) > threshold, 1, -1)\n",
    "    correct = np.sum(guesses == y_val_encoded)\n",
    "    val_scores[i] = correct / len(y_val_encoded)\n",
    "    print()\n",
    "\n",
    "for i in range(3):\n",
    "     print(i,\": score:\", val_scores[i])"
   ]
  },
  {
   "cell_type": "code",
   "execution_count": 13,
   "metadata": {},
   "outputs": [
    {
     "name": "stdout",
     "output_type": "stream",
     "text": [
      "0.6899264874798989\n"
     ]
    }
   ],
   "source": [
    "w = np.vstack((w_vals[0], w_vals[1], w_vals[2])).T\n",
    "scores = np.dot(X_train, w)\n",
    "guesses = np.argmax(scores, axis=1)\n",
    "print((guesses == y_train).sum()/len(y_train))"
   ]
  },
  {
   "cell_type": "code",
   "execution_count": 12,
   "metadata": {},
   "outputs": [
    {
     "data": {
      "text/plain": [
       "<matplotlib.legend.Legend at 0x1f11e38fc10>"
      ]
     },
     "execution_count": 12,
     "metadata": {},
     "output_type": "execute_result"
    },
    {
     "data": {
      "image/png": "[encoded data removed]",
      "text/plain": [
       "<Figure size 640x480 with 1 Axes>"
      ]
     },
     "metadata": {},
     "output_type": "display_data"
    }
   ],
   "source": [
    "# Plot the scores\n",
    "for i in range(3):\n",
    "    # starting at the second iteration because the first is always huge\n",
    "    pyplot.plot(svm_scores[i][1:], label='Class %d' % i)\n",
    "pyplot.legend()"
   ]
  },
  {
   "cell_type": "code",
   "execution_count": null,
   "metadata": {},
   "outputs": [],
   "source": []
  }
 ],
 "metadata": {
  "kernelspec": {
   "display_name": "Python 3",
   "language": "python",
   "name": "python3"
  },
  "language_info": {
   "codemirror_mode": {
    "name": "ipython",
    "version": 3
   },
   "file_extension": ".py",
   "mimetype": "text/x-python",
   "name": "python",
   "nbconvert_exporter": "python",
   "pygments_lexer": "ipython3",
   "version": "3.10.6"
  },
  "orig_nbformat": 4
 },
 "nbformat": 4,
 "nbformat_minor": 2
}
