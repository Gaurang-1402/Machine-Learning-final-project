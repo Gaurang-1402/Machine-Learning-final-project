{
 "cells": [
  {
   "cell_type": "code",
   "execution_count": 22,
   "metadata": {},
   "outputs": [],
   "source": [
    "import numpy as np"
   ]
  },
  {
   "cell_type": "code",
   "execution_count": 23,
   "metadata": {},
   "outputs": [],
   "source": [
    "class HiddenLayer:\n",
    "    def __init__(self, initialWeights, initialBias, activationFunction):\n",
    "        self.w = initialWeights # weights\n",
    "        self.b = initialBias    # bias\n",
    "        self.i = None           # input\n",
    "        self.z = None           # output\n",
    "        self.d = None           # delta\n",
    "        self.a = None\n",
    "        self.actFunc = activationFunction\n",
    "    \n",
    "    def forward(self, input):\n",
    "        self.i = input\n",
    "        self.z = np.dot(input, self.w.T) + self.b\n",
    "        self.a = self.actFunc.f(self.z)\n",
    "    \n",
    "    def backward(self, nextLayerDelta, nextLayerWeights):\n",
    "        self.d = np.dot(nextLayerDelta, nextLayerWeights) * self.actFunc.f_prime(self.z)\n",
    "    \n",
    "    def update(self, learningRate):\n",
    "        self.w -= learningRate * np.dot(self.d.T, self.i)\n",
    "        self.b -= learningRate * self.d.sum(axis=0)\n",
    "\n",
    "class OutputLayer(HiddenLayer):\n",
    "    def __init__(self, initialWeights, initialBias, activationFunction):\n",
    "        super().__init__(initialWeights, initialBias, activationFunction)\n",
    "    \n",
    "    def backward(self, target):\n",
    "        self.d = (self.a - target) * self.actFunc.f_prime(self.z)"
   ]
  },
  {
   "cell_type": "code",
   "execution_count": 24,
   "metadata": {},
   "outputs": [],
   "source": [
    "class ActivationSigmoid:\n",
    "    def f(self, x):\n",
    "        return 1 / (1 + np.exp(-x))\n",
    "    \n",
    "    def f_prime(self, x):\n",
    "        return self.f(x) * (1 - self.f(x))\n",
    "\n",
    "class ActivationReLU:\n",
    "    def f(self, x):\n",
    "        return np.maximum(0, x)\n",
    "    \n",
    "    def f_prime(self, x):\n",
    "        return np.where(x > 0, 1, 0)"
   ]
  },
  {
   "cell_type": "code",
   "execution_count": 25,
   "metadata": {},
   "outputs": [],
   "source": [
    "class NeuralNetwork:\n",
    "    def __init__(self, layers):\n",
    "        self.layers = layers\n",
    "    \n",
    "    def forward(self, input):\n",
    "        for layer in self.layers:\n",
    "            layer.forward(input)\n",
    "            input = layer.a\n",
    "    \n",
    "    def backward(self, target):\n",
    "        for i in reversed(range(len(self.layers))):\n",
    "            if i == len(self.layers) - 1:\n",
    "                self.layers[i].backward(target)\n",
    "            else:\n",
    "                self.layers[i].backward(self.layers[i+1].d, self.layers[i+1].w)\n",
    "    \n",
    "    def update(self, learningRate):\n",
    "        for layer in self.layers:\n",
    "            layer.update(learningRate)\n",
    "    \n",
    "    def print(self):\n",
    "        for i, layer in enumerate(self.layers):\n",
    "            print(\"Layer\", i)\n",
    "            print(\"Weights:\\n\", layer.w)\n",
    "            print(\"Bias:\\n\", layer.b)\n",
    "            print()"
   ]
  },
  {
   "cell_type": "code",
   "execution_count": 26,
   "metadata": {},
   "outputs": [],
   "source": [
    "x = np.array([[1, 0], [0, 1]], dtype=float)\n",
    "y = np.array([[1], [0]], dtype=float)"
   ]
  },
  {
   "cell_type": "code",
   "execution_count": 27,
   "metadata": {},
   "outputs": [
    {
     "ename": "TypeError",
     "evalue": "cannot unpack non-iterable HiddenLayer object",
     "output_type": "error",
     "traceback": [
      "\u001b[1;31m---------------------------------------------------------------------------\u001b[0m",
      "\u001b[1;31mTypeError\u001b[0m                                 Traceback (most recent call last)",
      "Cell \u001b[1;32mIn[27], line 8\u001b[0m\n\u001b[0;32m      6\u001b[0m network\u001b[39m.\u001b[39mbackward(y)\n\u001b[0;32m      7\u001b[0m network\u001b[39m.\u001b[39mupdate(\u001b[39m1\u001b[39m)\n\u001b[1;32m----> 8\u001b[0m network\u001b[39m.\u001b[39;49mprint()\n",
      "Cell \u001b[1;32mIn[25], line 22\u001b[0m, in \u001b[0;36mNeuralNetwork.print\u001b[1;34m(self)\u001b[0m\n\u001b[0;32m     21\u001b[0m \u001b[39mdef\u001b[39;00m \u001b[39mprint\u001b[39m(\u001b[39mself\u001b[39m):\n\u001b[1;32m---> 22\u001b[0m     \u001b[39mfor\u001b[39;00m i, layer \u001b[39min\u001b[39;00m \u001b[39miter\u001b[39m(\u001b[39mself\u001b[39m\u001b[39m.\u001b[39mlayers):\n\u001b[0;32m     23\u001b[0m         \u001b[39mprint\u001b[39m(\u001b[39m\"\u001b[39m\u001b[39mLayer\u001b[39m\u001b[39m\"\u001b[39m, i)\n\u001b[0;32m     24\u001b[0m         \u001b[39mprint\u001b[39m(\u001b[39m\"\u001b[39m\u001b[39mWeights:\u001b[39m\u001b[39m\\n\u001b[39;00m\u001b[39m\"\u001b[39m, layer\u001b[39m.\u001b[39mw)\n",
      "\u001b[1;31mTypeError\u001b[0m: cannot unpack non-iterable HiddenLayer object"
     ]
    }
   ],
   "source": [
    "network = NeuralNetwork([\n",
    "    HiddenLayer(np.array([[1, 2], [3, 4]], dtype=float), np.array([1, -1], dtype=float), ActivationReLU()),\n",
    "    OutputLayer(np.array([[1, 2]], dtype=float), np.array([1], dtype=float), ActivationSigmoid())\n",
    "])\n",
    "network.forward(x)\n",
    "network.backward(y)\n",
    "network.update(1)\n",
    "network.print()"
   ]
  }
 ],
 "metadata": {
  "kernelspec": {
   "display_name": "Python 3",
   "language": "python",
   "name": "python3"
  },
  "language_info": {
   "codemirror_mode": {
    "name": "ipython",
    "version": 3
   },
   "file_extension": ".py",
   "mimetype": "text/x-python",
   "name": "python",
   "nbconvert_exporter": "python",
   "pygments_lexer": "ipython3",
   "version": "3.10.6"
  },
  "orig_nbformat": 4
 },
 "nbformat": 4,
 "nbformat_minor": 2
}
