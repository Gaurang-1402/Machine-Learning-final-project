{
 "cells": [
  {
   "cell_type": "markdown",
   "metadata": {},
   "source": [
    "# Programming Assignment 3 - Logistic Regression (50 points)\n",
    "\n",
    "For this assignment, you will be using the Breast Cancer Wisconsin  dataset to create a classifier that can help diagnose patients. \n",
    "\n",
    "You task is to determine if you can use logistic regression with the features to predict if a tumor is benign or malignant.  This is an important task, as if save lives.\n",
    "\n",
    "``Features are computed from a digitized image of a fine needle aspirate (FNA) of a breast mass. They describe characteristics of the cell nuclei present in the image.''\n",
    "\n",
    "The ten real-valued features compute different measurements on the cell nucleus.  The official documentation describes the features as: \n",
    "\n",
    "*  radius (mean of distances from center to points on the perimeter)\n",
    "* texture (standard deviation of gray-scale values)\n",
    "* perimeter\n",
    "* area\n",
    "* smoothness (local variation in radius lengths)\n",
    "* compactness (perimeter^2 / area - 1.0)\n",
    "* concavity (severity of concave portions of the contour)\n",
    "* concave points (number of concave portions of the contour)\n",
    "* symmetry\n",
    "* fractal dimension (\"coastline approximation\" - 1)"
   ]
  },
  {
   "cell_type": "markdown",
   "metadata": {},
   "source": [
    "## Before you start\n",
    "\n",
    "For this semester, the teaching staff of this course will be using Autograder to grade programming assignment. Here are three things we would like you to know before starting. `PLEASE READ CAREFULLY.` Otherwise, you might lose points on some questions.\n",
    "\n",
    "* If you see any blocks containing statements like `grader.check(\"Qxx\")`, please `do not modify` them. You can add new cells to the notebook, but just make sure there is `no other cells` between the answer cells containing tag `# TODO Qxx` and grading cells like 'grader.check(\"Qxx\")`. \n",
    "\n",
    "* If the instructions say that you are required to use certain names for output variables, please `follow the instructions`, and you are not supposed to change the names of any given variables. You can still create new variables, but don't forget to `assign the output variables to correct values`. If the `type` of a output variable is specified, make sure the type of the variable is correct.\n",
    "\n",
    "* You can use print statements to print out results through out the notebook. However, if you have any `print statements within functions`, please make sure putting them `in comments` before you submit.\n",
    "\n",
    "* Please note for questions that require you to plot, please **_DO NOT MODIFY_** statements like `plt.show(block=False)`. Changing the statement would block the execution of autograder and you might lose points on that question.\n",
    "\n",
    "* Please `APPEND YOUR NYU NETID` to the name your submission (for example, name your submission as \"HW1_prog_abc12345.ipynb\" when you submit on Gradescope, and replace <abc1234> with your NYU NetID). \n",
    "\n",
    "Good luck with programming assignment 4!"
   ]
  },
  {
   "cell_type": "markdown",
   "metadata": {},
   "source": [
    "# Start by importing the libraries"
   ]
  },
  {
   "cell_type": "code",
   "execution_count": 4,
   "metadata": {},
   "outputs": [],
   "source": [
    "# Import Important Libraries\n",
    "import sklearn\n",
    "from sklearn.datasets import load_breast_cancer # taking included data set from Sklearn http://scikit-learn.org/stable/modules/generated/sklearn.datasets.load_breast_cancer.html\n",
    "from sklearn.linear_model import LogisticRegression # importing Sklearn's logistic regression's module\n",
    "from sklearn import preprocessing # preprossing is what we do with the data before we run the learning algorithm\n",
    "from sklearn.model_selection import train_test_split \n",
    "import numpy as np\n",
    "# import math\n",
    "\n",
    "import matplotlib.pyplot as plt\n",
    "%matplotlib inline"
   ]
  },
  {
   "cell_type": "markdown",
   "metadata": {},
   "source": [
    "# Load the data set.\n",
    "\n",
    "In the below code cell, you will load the data from sklearn using the method given. Check import statements and use the given function"
   ]
  },
  {
   "cell_type": "code",
   "execution_count": 5,
   "metadata": {},
   "outputs": [],
   "source": [
    "# TODO Q01\n",
    "cancer = load_breast_cancer()   # type in load_breast_cancer()"
   ]
  },
  {
   "cell_type": "code",
   "execution_count": 6,
   "id": "furnished-postage",
   "metadata": {
    "deletable": false,
    "editable": false
   },
   "outputs": [
    {
     "ename": "NameError",
     "evalue": "name 'grader' is not defined",
     "output_type": "error",
     "traceback": [
      "\u001b[1;31m---------------------------------------------------------------------------\u001b[0m",
      "\u001b[1;31mNameError\u001b[0m                                 Traceback (most recent call last)",
      "Cell \u001b[1;32mIn[6], line 1\u001b[0m\n\u001b[1;32m----> 1\u001b[0m grader\u001b[39m.\u001b[39mcheck(\u001b[39m\"\u001b[39m\u001b[39mQ01\u001b[39m\u001b[39m\"\u001b[39m)\n",
      "\u001b[1;31mNameError\u001b[0m: name 'grader' is not defined"
     ]
    }
   ],
   "source": [
    "grader.check(\"Q01\")"
   ]
  },
  {
   "cell_type": "code",
   "execution_count": 7,
   "metadata": {},
   "outputs": [
    {
     "name": "stdout",
     "output_type": "stream",
     "text": [
      "Q01 - cancer.target.shape:  (569,)\n",
      "Q01 - cancer.data.shape:  (569, 30)\n"
     ]
    }
   ],
   "source": [
    "# VERIFY - Print the shape of data and target\n",
    "print('Q01 - cancer.target.shape: ', cancer.target.shape)\n",
    "print('Q01 - cancer.data.shape: ', cancer.data.shape)"
   ]
  },
  {
   "cell_type": "code",
   "execution_count": 8,
   "metadata": {},
   "outputs": [],
   "source": [
    "# Read through the description of the dataset by uncommenting the line of code below\n",
    "# print(cancer.DESCR)"
   ]
  },
  {
   "cell_type": "markdown",
   "metadata": {},
   "source": [
    "# Data Pre-Processing\n",
    "Scale after splitting the data into train and test since we will be using gradient ascent. \n",
    "* Use `train_test_split` to split the data (`75% train` and `25% test`) to `X_train`, `X_test`, `y_train`, `y_test` with `random_state` of 42\n",
    "* Reshape `y_train` into 2D array `y_2d_train` and `y_test` into 2D array `y_2d_test`\n",
    "* Use `preprocessing` to scale the data.  Remember to scale the training data first and then using the same method scale the test dataset.\n",
    "* Augment the dataset with a column of ones"
   ]
  },
  {
   "cell_type": "code",
   "execution_count": 9,
   "metadata": {},
   "outputs": [],
   "source": [
    "# TODO Q02\n",
    "from sklearn.preprocessing import StandardScaler\n",
    "\n",
    "# splitting\n",
    "X_train, X_test, y_train, y_test = train_test_split(cancer.data, cancer.target, test_size=0.25, random_state=42)\n",
    "\n",
    "# resizing y\n",
    "y_2d_train = np.ndarray.reshape(y_train, (-1, 1))\n",
    "y_2d_test = np.ndarray.reshape(y_test, (-1, 1))\n",
    "\n",
    "# scaling\n",
    "scale = StandardScaler()\n",
    "X_train = scale.fit_transform(X_train)\n",
    "X_test = scale.transform(X_test)"
   ]
  },
  {
   "cell_type": "code",
   "execution_count": 10,
   "id": "expanded-hepatitis",
   "metadata": {
    "deletable": false,
    "editable": false
   },
   "outputs": [
    {
     "ename": "NameError",
     "evalue": "name 'grader' is not defined",
     "output_type": "error",
     "traceback": [
      "\u001b[1;31m---------------------------------------------------------------------------\u001b[0m",
      "\u001b[1;31mNameError\u001b[0m                                 Traceback (most recent call last)",
      "Cell \u001b[1;32mIn[10], line 1\u001b[0m\n\u001b[1;32m----> 1\u001b[0m grader\u001b[39m.\u001b[39mcheck(\u001b[39m\"\u001b[39m\u001b[39mQ02\u001b[39m\u001b[39m\"\u001b[39m)\n",
      "\u001b[1;31mNameError\u001b[0m: name 'grader' is not defined"
     ]
    }
   ],
   "source": [
    "grader.check(\"Q02\")"
   ]
  },
  {
   "cell_type": "code",
   "execution_count": 11,
   "metadata": {},
   "outputs": [
    {
     "name": "stdout",
     "output_type": "stream",
     "text": [
      "Q02 - X_train.shape:  (426, 30)\n",
      "Q02 - y_2d_train.shape:  (426, 1)\n"
     ]
    }
   ],
   "source": [
    "# VERIFY - Print the shape of X_train and y_2d_train\n",
    "print('Q02 - X_train.shape: ', X_train.shape)\n",
    "print('Q02 - y_2d_train.shape: ', y_2d_train.shape)"
   ]
  },
  {
   "cell_type": "code",
   "execution_count": 12,
   "metadata": {},
   "outputs": [
    {
     "name": "stdout",
     "output_type": "stream",
     "text": [
      "Q02 - cancer.feature_names:  ['mean radius' 'mean texture' 'mean perimeter' 'mean area'\n",
      " 'mean smoothness' 'mean compactness' 'mean concavity'\n",
      " 'mean concave points' 'mean symmetry' 'mean fractal dimension'\n",
      " 'radius error' 'texture error' 'perimeter error' 'area error'\n",
      " 'smoothness error' 'compactness error' 'concavity error'\n",
      " 'concave points error' 'symmetry error' 'fractal dimension error'\n",
      " 'worst radius' 'worst texture' 'worst perimeter' 'worst area'\n",
      " 'worst smoothness' 'worst compactness' 'worst concavity'\n",
      " 'worst concave points' 'worst symmetry' 'worst fractal dimension']\n"
     ]
    }
   ],
   "source": [
    "# VERIFY - Printing the names of all the features\n",
    "print('Q02 - cancer.feature_names: ', cancer.feature_names)"
   ]
  },
  {
   "cell_type": "code",
   "execution_count": 13,
   "metadata": {},
   "outputs": [],
   "source": [
    "# TODO Q03\n",
    "# Append a column of ones to X_train\n",
    "# ones is a  vector of shape n,1\n",
    "ones = np.ones((X_train.shape[0],1))\n",
    "# Append a column of ones in the beginning of X_train an save in variable X_train_1(<np.ndarray>).\n",
    "X_train_1 = np.hstack((ones, X_train))"
   ]
  },
  {
   "cell_type": "code",
   "execution_count": 14,
   "id": "empirical-species",
   "metadata": {
    "deletable": false,
    "editable": false,
    "scrolled": true
   },
   "outputs": [
    {
     "ename": "NameError",
     "evalue": "name 'grader' is not defined",
     "output_type": "error",
     "traceback": [
      "\u001b[1;31m---------------------------------------------------------------------------\u001b[0m",
      "\u001b[1;31mNameError\u001b[0m                                 Traceback (most recent call last)",
      "Cell \u001b[1;32mIn[14], line 1\u001b[0m\n\u001b[1;32m----> 1\u001b[0m grader\u001b[39m.\u001b[39mcheck(\u001b[39m\"\u001b[39m\u001b[39mQ03\u001b[39m\u001b[39m\"\u001b[39m)\n",
      "\u001b[1;31mNameError\u001b[0m: name 'grader' is not defined"
     ]
    }
   ],
   "source": [
    "grader.check(\"Q03\")"
   ]
  },
  {
   "cell_type": "code",
   "execution_count": 15,
   "metadata": {},
   "outputs": [
    {
     "name": "stdout",
     "output_type": "stream",
     "text": [
      "Q03 - X_train_1.shape:  (426, 31)\n",
      "Q03 - X_train_1:  [[ 1.         -0.34913849 -1.43851335 ... -0.91671059 -0.92508585\n",
      "  -0.80841115]\n",
      " [ 1.         -0.20468665  0.31264011 ...  1.43655962  1.14955889\n",
      "   1.56911143]\n",
      " [ 1.         -0.32931176 -0.21507235 ... -0.7237126   0.53496977\n",
      "  -0.61934827]\n",
      " ...\n",
      " [ 1.          0.04739597 -0.56293662 ... -1.23262438 -0.68282718\n",
      "  -1.261137  ]\n",
      " [ 1.         -0.04040808  0.09966199 ...  1.08847951  0.48944465\n",
      "   1.26159953]\n",
      " [ 1.         -0.5502381   0.31264011 ... -0.59582424 -0.29911546\n",
      "  -0.82948141]]\n"
     ]
    }
   ],
   "source": [
    "# VERIFY\n",
    "print('Q03 - X_train_1.shape: ', X_train_1.shape)\n",
    "print('Q03 - X_train_1: ', X_train_1)"
   ]
  },
  {
   "cell_type": "markdown",
   "metadata": {},
   "source": [
    "# Implementing Logistic Regression Using Gradient Ascent\n",
    "\n",
    "You will perform the following steps:\n",
    "* write the sigmoid function $\\sigma(z)=\\frac{1}{1+e^{-z}}$\n",
    "* initialize ${\\bf w}$\n",
    "* prediction: write the function to compute the probability of every example in $X$ belonging to class one\n",
    "* write the log likelihood function (see lecture notes for the formula)\n",
    "* write the gradient ascent algorithm\n",
    "* plot the likelihood v/s the number of iterations\n",
    "* predict the class label (i.e. $0,1$) for every example in $X$ for a given ${\\bf w}$ and $t$\n",
    "* Evaluate your hypothesis by using your hypothesis to predict the class of the examples in the test set.  Using these predicted value you will then determine the precision, recall and F1 score of the test set\n"
   ]
  },
  {
   "cell_type": "markdown",
   "metadata": {},
   "source": [
    "### Sigmoid function"
   ]
  },
  {
   "cell_type": "code",
   "execution_count": 16,
   "metadata": {},
   "outputs": [],
   "source": [
    "# TODO Q04\n",
    "# Write the sigmoid function\n",
    "def sigmoid(z):\n",
    "    return np.clip(1 / (1 + np.exp(-z)), 1e-8, 1 - 1e-8)"
   ]
  },
  {
   "cell_type": "code",
   "execution_count": 17,
   "id": "fifty-tobacco",
   "metadata": {
    "deletable": false,
    "editable": false
   },
   "outputs": [
    {
     "ename": "NameError",
     "evalue": "name 'grader' is not defined",
     "output_type": "error",
     "traceback": [
      "\u001b[1;31m---------------------------------------------------------------------------\u001b[0m",
      "\u001b[1;31mNameError\u001b[0m                                 Traceback (most recent call last)",
      "Cell \u001b[1;32mIn[17], line 1\u001b[0m\n\u001b[1;32m----> 1\u001b[0m grader\u001b[39m.\u001b[39mcheck(\u001b[39m\"\u001b[39m\u001b[39mQ04\u001b[39m\u001b[39m\"\u001b[39m)\n",
      "\u001b[1;31mNameError\u001b[0m: name 'grader' is not defined"
     ]
    }
   ],
   "source": [
    "grader.check(\"Q04\")"
   ]
  },
  {
   "cell_type": "code",
   "execution_count": 18,
   "metadata": {},
   "outputs": [
    {
     "name": "stdout",
     "output_type": "stream",
     "text": [
      "Q04 - sigmoid(0):  0.5\n"
     ]
    }
   ],
   "source": [
    "# VERIFY - Sigmoid of 0 should be equal to half\n",
    "print('Q04 - sigmoid(0): ', sigmoid(0))"
   ]
  },
  {
   "cell_type": "markdown",
   "metadata": {},
   "source": [
    "### Initialize ${\\bf w}$"
   ]
  },
  {
   "cell_type": "code",
   "execution_count": 19,
   "metadata": {},
   "outputs": [],
   "source": [
    "# TODO Q05\n",
    "# Initialize w_init to a zero matrix with shape (X_train_1.shape[1],1)\n",
    "w_init = np.zeros((X_train_1.shape[1], 1))"
   ]
  },
  {
   "cell_type": "code",
   "execution_count": 20,
   "id": "second-chile",
   "metadata": {
    "deletable": false,
    "editable": false
   },
   "outputs": [
    {
     "ename": "NameError",
     "evalue": "name 'grader' is not defined",
     "output_type": "error",
     "traceback": [
      "\u001b[1;31m---------------------------------------------------------------------------\u001b[0m",
      "\u001b[1;31mNameError\u001b[0m                                 Traceback (most recent call last)",
      "Cell \u001b[1;32mIn[20], line 1\u001b[0m\n\u001b[1;32m----> 1\u001b[0m grader\u001b[39m.\u001b[39mcheck(\u001b[39m\"\u001b[39m\u001b[39mQ05\u001b[39m\u001b[39m\"\u001b[39m)\n",
      "\u001b[1;31mNameError\u001b[0m: name 'grader' is not defined"
     ]
    }
   ],
   "source": [
    "grader.check(\"Q05\")"
   ]
  },
  {
   "cell_type": "code",
   "execution_count": 21,
   "metadata": {},
   "outputs": [
    {
     "name": "stdout",
     "output_type": "stream",
     "text": [
      "Q05 - w_init.shape:  (31, 1)\n"
     ]
    }
   ],
   "source": [
    "# VERIFY\n",
    "print('Q05 - w_init.shape: ', w_init.shape)"
   ]
  },
  {
   "cell_type": "markdown",
   "metadata": {},
   "source": [
    "### Prediction\n",
    "Finish writing the function, `hypothesis`, that computes the probability of each example in $X$ belonging to class one.  (i.e. $\\hat{\\bf y}=\\sigma(X{\\bf w})$"
   ]
  },
  {
   "cell_type": "code",
   "execution_count": 22,
   "metadata": {},
   "outputs": [],
   "source": [
    "# TODO Q06\n",
    "# Write the hypothesis function which assumes the design matrix X is augmented with a column of ones\n",
    "def hypothesis(X, w):\n",
    "    return sigmoid(np.dot(X, w))"
   ]
  },
  {
   "cell_type": "code",
   "execution_count": 23,
   "id": "opposed-corps",
   "metadata": {
    "deletable": false,
    "editable": false
   },
   "outputs": [
    {
     "ename": "NameError",
     "evalue": "name 'grader' is not defined",
     "output_type": "error",
     "traceback": [
      "\u001b[1;31m---------------------------------------------------------------------------\u001b[0m",
      "\u001b[1;31mNameError\u001b[0m                                 Traceback (most recent call last)",
      "Cell \u001b[1;32mIn[23], line 1\u001b[0m\n\u001b[1;32m----> 1\u001b[0m grader\u001b[39m.\u001b[39mcheck(\u001b[39m\"\u001b[39m\u001b[39mQ06\u001b[39m\u001b[39m\"\u001b[39m)\n",
      "\u001b[1;31mNameError\u001b[0m: name 'grader' is not defined"
     ]
    }
   ],
   "source": [
    "grader.check(\"Q06\")"
   ]
  },
  {
   "cell_type": "code",
   "execution_count": 24,
   "metadata": {},
   "outputs": [],
   "source": [
    "# TODO Q07 \n",
    "# Compute y_hat(<np.ndarray>) using your hypotheis function with arguments X_train_1 and w_init\n",
    "y_hat_init = hypothesis(X_train_1,w_init)"
   ]
  },
  {
   "cell_type": "code",
   "execution_count": 25,
   "id": "received-outdoors",
   "metadata": {
    "deletable": false,
    "editable": false
   },
   "outputs": [
    {
     "ename": "NameError",
     "evalue": "name 'grader' is not defined",
     "output_type": "error",
     "traceback": [
      "\u001b[1;31m---------------------------------------------------------------------------\u001b[0m",
      "\u001b[1;31mNameError\u001b[0m                                 Traceback (most recent call last)",
      "Cell \u001b[1;32mIn[25], line 1\u001b[0m\n\u001b[1;32m----> 1\u001b[0m grader\u001b[39m.\u001b[39mcheck(\u001b[39m\"\u001b[39m\u001b[39mQ07\u001b[39m\u001b[39m\"\u001b[39m)\n",
      "\u001b[1;31mNameError\u001b[0m: name 'grader' is not defined"
     ]
    }
   ],
   "source": [
    "grader.check(\"Q07\")"
   ]
  },
  {
   "cell_type": "code",
   "execution_count": 26,
   "metadata": {},
   "outputs": [],
   "source": [
    "# VERIFY\n",
    "# print('Q07 - y_hat_init: ', y_hat_init)"
   ]
  },
  {
   "cell_type": "markdown",
   "metadata": {},
   "source": [
    "### Log Likelihood Function\n",
    "Write the code to calculate the log likelihood as discussed in the class."
   ]
  },
  {
   "cell_type": "code",
   "execution_count": 27,
   "metadata": {},
   "outputs": [],
   "source": [
    "# TODO Q08\n",
    "# Write the log likelihood function\n",
    "def log_likelihood(X: np.ndarray, y: np.ndarray, w: np.ndarray):\n",
    "    preds = hypothesis(X, w)\n",
    "    term1 = y * np.log(preds)\n",
    "    term2 = (1-y) * np.log(1-preds)\n",
    "    combined = term1 + term2\n",
    "    return np.ndarray.sum(combined)"
   ]
  },
  {
   "cell_type": "code",
   "execution_count": 28,
   "id": "painful-punch",
   "metadata": {
    "deletable": false,
    "editable": false
   },
   "outputs": [
    {
     "ename": "NameError",
     "evalue": "name 'grader' is not defined",
     "output_type": "error",
     "traceback": [
      "\u001b[1;31m---------------------------------------------------------------------------\u001b[0m",
      "\u001b[1;31mNameError\u001b[0m                                 Traceback (most recent call last)",
      "Cell \u001b[1;32mIn[28], line 1\u001b[0m\n\u001b[1;32m----> 1\u001b[0m grader\u001b[39m.\u001b[39mcheck(\u001b[39m\"\u001b[39m\u001b[39mQ08\u001b[39m\u001b[39m\"\u001b[39m)\n",
      "\u001b[1;31mNameError\u001b[0m: name 'grader' is not defined"
     ]
    }
   ],
   "source": [
    "grader.check(\"Q08\")"
   ]
  },
  {
   "cell_type": "code",
   "execution_count": 29,
   "metadata": {},
   "outputs": [
    {
     "name": "stdout",
     "output_type": "stream",
     "text": [
      "Q08 - likelihood:  -295.2806989185367\n"
     ]
    }
   ],
   "source": [
    "# VERIFY - The value should be equal to -295.2806989185367 using X_train_1, y_2d_train, w, X_train_1.shape[0].\n",
    "print('Q08 - likelihood: ', log_likelihood(X_train_1, y_2d_train, w_init))"
   ]
  },
  {
   "cell_type": "markdown",
   "metadata": {},
   "source": [
    "### Gradient Ascent"
   ]
  },
  {
   "cell_type": "code",
   "execution_count": 30,
   "metadata": {},
   "outputs": [],
   "source": [
    "# TODO Q09\n",
    "# Write the gradient ascent function\n",
    "def Gradient_Ascent(X, y, learning_rate, num_iters):\n",
    "    # We assume X has been augmented with a column of ones\n",
    "    \n",
    "    # Number of training examples.\n",
    "    N = X.shape[0]\n",
    "    \n",
    "    # Initialize w(<np.ndarray>). Zeros vector of shape X.shape[1],1\n",
    "    w = np.zeros((X.shape[1],1))\n",
    "    \n",
    "    # Initiating list to store values of likelihood(<list>) after few iterations.\n",
    "    log_likelihood_values = []\n",
    "    \n",
    "    # Gradient Ascent - local optimization technique\n",
    "    for i in range(num_iters):\n",
    "        hyp = hypothesis(X, w)\n",
    "        gradient = np.dot(X.T, y - hyp)\n",
    "        w += learning_rate * gradient\n",
    "        \n",
    "        # Computing log likelihood of seeing examples for current value of w\n",
    "        if (i % 10) == 0:\n",
    "            log_likelihood_values.append(log_likelihood(X, y, w))\n",
    "            #print(log_likelihood(X, y, w))\n",
    "        \n",
    "    return w, log_likelihood_values"
   ]
  },
  {
   "cell_type": "code",
   "execution_count": 31,
   "id": "ancient-intensity",
   "metadata": {
    "deletable": false,
    "editable": false
   },
   "outputs": [
    {
     "ename": "NameError",
     "evalue": "name 'grader' is not defined",
     "output_type": "error",
     "traceback": [
      "\u001b[1;31m---------------------------------------------------------------------------\u001b[0m",
      "\u001b[1;31mNameError\u001b[0m                                 Traceback (most recent call last)",
      "Cell \u001b[1;32mIn[31], line 1\u001b[0m\n\u001b[1;32m----> 1\u001b[0m grader\u001b[39m.\u001b[39mcheck(\u001b[39m\"\u001b[39m\u001b[39mQ09\u001b[39m\u001b[39m\"\u001b[39m)\n",
      "\u001b[1;31mNameError\u001b[0m: name 'grader' is not defined"
     ]
    }
   ],
   "source": [
    "grader.check(\"Q09\")"
   ]
  },
  {
   "cell_type": "code",
   "execution_count": 32,
   "metadata": {},
   "outputs": [
    {
     "name": "stdout",
     "output_type": "stream",
     "text": [
      "[[ 0.56560253]\n",
      " [-0.4828172 ]\n",
      " [-0.60288013]\n",
      " [-0.44602744]\n",
      " [-0.56301683]\n",
      " [-0.25655975]\n",
      " [ 0.50831595]\n",
      " [-0.821336  ]\n",
      " [-1.01474361]\n",
      " [ 0.16099129]\n",
      " [ 0.28425311]\n",
      " [-1.28106089]\n",
      " [ 0.15848432]\n",
      " [-0.77041515]\n",
      " [-0.93156936]\n",
      " [-0.20062617]\n",
      " [ 0.8303779 ]\n",
      " [-0.14256347]\n",
      " [-0.30279775]\n",
      " [ 0.48631048]\n",
      " [ 0.69449802]\n",
      " [-0.92727034]\n",
      " [-1.29180497]\n",
      " [-0.71532286]\n",
      " [-0.92485731]\n",
      " [-0.78292507]\n",
      " [ 0.04920566]\n",
      " [-1.04223209]\n",
      " [-0.92256795]\n",
      " [-1.1993701 ]\n",
      " [-0.12319808]] [-115.34350026830285, -57.640733458765965, -47.35665047175766, -42.39483109138783, -39.330919271584044, -37.196262222380426, -35.596177752813865, -34.33616434657898, -33.30810667086227, -32.44661269339331, -31.709557819536585, -31.06844171823309, -30.503207930206187, -29.999278680501362, -29.545767981318974, -29.134357889768705, -28.75856589545381, -28.413252379547572, -28.094280516699698, -27.798275939249294, -27.522453330341232, -27.264489032200476, -27.022425898448454, -26.79460117274941, -26.57959109574329, -26.376167826983952, -26.183265572261156, -25.999953672999034, -25.82541502023746, -25.658928593183816, -25.4998552099184, -25.347625814849593, -25.201731780040472, -25.06171682057466, -24.927170216627054, -24.79772108892275, -24.673033546056477, -24.55280254229791, -24.436750330114524, -24.32462340425903, -24.216189854853376, -24.11123707297056, -24.009569746806754, -23.911008107950167, -23.81538639051169, -23.722551472514414, -23.632361674381016, -23.544685691301854, -23.45940164407179, -23.37639623210604]\n"
     ]
    }
   ],
   "source": [
    "# Please try many different values for the learning rate (including very small values).\n",
    "learning_rate = 0.001\n",
    "num_iters = 500\n",
    "# Calculate w and likelihood values using Gradient_Ascent with X_train_1, y_2d_train\n",
    "w, log_likelihood_values = Gradient_Ascent(X_train_1, y_2d_train, learning_rate, num_iters)\n",
    "print(w, log_likelihood_values)"
   ]
  },
  {
   "cell_type": "code",
   "execution_count": 33,
   "id": "upper-injection",
   "metadata": {
    "deletable": false,
    "editable": false
   },
   "outputs": [
    {
     "ename": "NameError",
     "evalue": "name 'grader' is not defined",
     "output_type": "error",
     "traceback": [
      "\u001b[1;31m---------------------------------------------------------------------------\u001b[0m",
      "\u001b[1;31mNameError\u001b[0m                                 Traceback (most recent call last)",
      "Cell \u001b[1;32mIn[33], line 1\u001b[0m\n\u001b[1;32m----> 1\u001b[0m grader\u001b[39m.\u001b[39mcheck(\u001b[39m\"\u001b[39m\u001b[39mQ10\u001b[39m\u001b[39m\"\u001b[39m)\n",
      "\u001b[1;31mNameError\u001b[0m: name 'grader' is not defined"
     ]
    }
   ],
   "source": [
    "grader.check(\"Q10\")"
   ]
  },
  {
   "cell_type": "markdown",
   "metadata": {},
   "source": [
    "### Plotting Likelihood v/s Number of Iterations."
   ]
  },
  {
   "cell_type": "code",
   "execution_count": 34,
   "metadata": {
    "scrolled": true
   },
   "outputs": [
    {
     "data": {
      "image/png": "[encoded data removed]",
      "text/plain": [
       "<Figure size 640x480 with 1 Axes>"
      ]
     },
     "metadata": {},
     "output_type": "display_data"
    }
   ],
   "source": [
    "# Run this cell to plot Likelihood v/s Number of Iterations.\n",
    "iters = np.array(range(0,num_iters,10))\n",
    "plt.plot(iters,log_likelihood_values,'.-',color='green')\n",
    "plt.xlabel('Number of iterations')\n",
    "plt.ylabel('Log-Likelihood')\n",
    "plt.title(\"Log-Likelihood vs Number of Iterations.\")\n",
    "plt.grid()\n",
    "plt.show(block=False)"
   ]
  },
  {
   "cell_type": "markdown",
   "metadata": {},
   "source": [
    "You should see the likelihood increasing as number of Iterations increase."
   ]
  },
  {
   "cell_type": "markdown",
   "metadata": {},
   "source": [
    "### Predict the class label for every example in $X$ for a given ${\\bf w}$ and $t$"
   ]
  },
  {
   "cell_type": "code",
   "execution_count": 35,
   "metadata": {},
   "outputs": [],
   "source": [
    "# TODO - Given a set of examples write the function to compute predicted which class for each example: 0 if the probability of belonging to class  is < t and returns 1 otherwise) - 10 points\n",
    "def predict_class(X, w, t):\n",
    "    hyp = hypothesis(X, w)\n",
    "    return np.where(hyp >= t, 1, 0)"
   ]
  },
  {
   "cell_type": "code",
   "execution_count": 36,
   "id": "patient-breakdown",
   "metadata": {
    "deletable": false,
    "editable": false
   },
   "outputs": [
    {
     "ename": "NameError",
     "evalue": "name 'grader' is not defined",
     "output_type": "error",
     "traceback": [
      "\u001b[1;31m---------------------------------------------------------------------------\u001b[0m",
      "\u001b[1;31mNameError\u001b[0m                                 Traceback (most recent call last)",
      "Cell \u001b[1;32mIn[36], line 1\u001b[0m\n\u001b[1;32m----> 1\u001b[0m grader\u001b[39m.\u001b[39mcheck(\u001b[39m\"\u001b[39m\u001b[39mQ11\u001b[39m\u001b[39m\"\u001b[39m)\n",
      "\u001b[1;31mNameError\u001b[0m: name 'grader' is not defined"
     ]
    }
   ],
   "source": [
    "grader.check(\"Q11\")"
   ]
  },
  {
   "cell_type": "markdown",
   "metadata": {},
   "source": [
    "### Precision, recall and F1: Evaluating your hypothesis using the test dataset"
   ]
  },
  {
   "cell_type": "code",
   "execution_count": 37,
   "metadata": {},
   "outputs": [],
   "source": [
    "# TODO Q12\n",
    "# Preidct the class y_hat using X_test and w you just calculated if the threshold is t = 0.5\n",
    "\n",
    "# First augment the test dataset with a column of ones.\n",
    "ones = np.ones((X_test.shape[0], 1))\n",
    "X_test_1 = np.hstack((ones, X_test))\n",
    "# Now predict the label of each example in your test set\n",
    "\n",
    "y_hat = predict_class(X_test_1, w, 0.5)"
   ]
  },
  {
   "cell_type": "code",
   "execution_count": 38,
   "id": "mechanical-specific",
   "metadata": {
    "deletable": false,
    "editable": false
   },
   "outputs": [
    {
     "ename": "NameError",
     "evalue": "name 'grader' is not defined",
     "output_type": "error",
     "traceback": [
      "\u001b[1;31m---------------------------------------------------------------------------\u001b[0m",
      "\u001b[1;31mNameError\u001b[0m                                 Traceback (most recent call last)",
      "Cell \u001b[1;32mIn[38], line 1\u001b[0m\n\u001b[1;32m----> 1\u001b[0m grader\u001b[39m.\u001b[39mcheck(\u001b[39m\"\u001b[39m\u001b[39mQ12\u001b[39m\u001b[39m\"\u001b[39m)\n",
      "\u001b[1;31mNameError\u001b[0m: name 'grader' is not defined"
     ]
    }
   ],
   "source": [
    "grader.check(\"Q12\")"
   ]
  },
  {
   "cell_type": "code",
   "execution_count": 39,
   "metadata": {},
   "outputs": [
    {
     "data": {
      "text/plain": [
       "(0.9887640449438202, 0.9887640449438202)"
      ]
     },
     "execution_count": 39,
     "metadata": {},
     "output_type": "execute_result"
    }
   ],
   "source": [
    "# TODO Q13\n",
    "# Write the precision_recall function by first calculating: false_pos, false_neg and true_pos.  Using these numbers compute the precision and recall\n",
    "def precision_recall(y_hat, y, threshold):\n",
    "\n",
    "    # Calculate false positive and false negative\n",
    "    # HINT: if done correctly, false_pos should be 1 and false_neg should be 1\n",
    "    false_pos = np.where(y - y_hat == -1, 1, 0).sum()\n",
    "    false_neg = np.where(y - y_hat == 1, 1, 0).sum()\n",
    "\n",
    "    # Calculate true positive and true negatives\n",
    "    # HINT: if done correctly, true_pos should be 88\n",
    "    true_pos = np.where(y + y_hat == 2, 1, 0).sum()\n",
    "\n",
    "    precision = true_pos / (true_pos + false_pos)\n",
    "    recall = true_pos / (true_pos + false_neg)\n",
    "    return precision, recall"
   ]
  },
  {
   "cell_type": "code",
   "execution_count": 40,
   "id": "visible-earth",
   "metadata": {
    "deletable": false,
    "editable": false
   },
   "outputs": [
    {
     "ename": "NameError",
     "evalue": "name 'grader' is not defined",
     "output_type": "error",
     "traceback": [
      "\u001b[1;31m---------------------------------------------------------------------------\u001b[0m",
      "\u001b[1;31mNameError\u001b[0m                                 Traceback (most recent call last)",
      "Cell \u001b[1;32mIn[40], line 1\u001b[0m\n\u001b[1;32m----> 1\u001b[0m grader\u001b[39m.\u001b[39mcheck(\u001b[39m\"\u001b[39m\u001b[39mQ13\u001b[39m\u001b[39m\"\u001b[39m)\n",
      "\u001b[1;31mNameError\u001b[0m: name 'grader' is not defined"
     ]
    }
   ],
   "source": [
    "grader.check(\"Q13\")"
   ]
  },
  {
   "cell_type": "code",
   "execution_count": 41,
   "metadata": {},
   "outputs": [
    {
     "name": "stdout",
     "output_type": "stream",
     "text": [
      "Q14 - precision:  0.9887640449438202\n",
      "Q14 - recall:  0.9887640449438202\n"
     ]
    }
   ],
   "source": [
    "# TODO Q14\n",
    "# Calculate precision and recall using on the test data where the threshold is 0.5\n",
    "\n",
    "precision, recall = precision_recall(predict_class(X_test_1, w, 0.5), y_2d_test, 0.5)\n",
    "\n",
    "print('Q14 - precision: ', precision)\n",
    "print('Q14 - recall: ', recall)"
   ]
  },
  {
   "cell_type": "code",
   "execution_count": 42,
   "id": "removable-copper",
   "metadata": {
    "deletable": false,
    "editable": false
   },
   "outputs": [
    {
     "ename": "NameError",
     "evalue": "name 'grader' is not defined",
     "output_type": "error",
     "traceback": [
      "\u001b[1;31m---------------------------------------------------------------------------\u001b[0m",
      "\u001b[1;31mNameError\u001b[0m                                 Traceback (most recent call last)",
      "Cell \u001b[1;32mIn[42], line 1\u001b[0m\n\u001b[1;32m----> 1\u001b[0m grader\u001b[39m.\u001b[39mcheck(\u001b[39m\"\u001b[39m\u001b[39mQ14\u001b[39m\u001b[39m\"\u001b[39m)\n",
      "\u001b[1;31mNameError\u001b[0m: name 'grader' is not defined"
     ]
    }
   ],
   "source": [
    "grader.check(\"Q14\")"
   ]
  },
  {
   "cell_type": "code",
   "execution_count": 43,
   "metadata": {},
   "outputs": [],
   "source": [
    "# TODO Q15\n",
    "# Write the F1_score function\n",
    "def f1_score(precision, recall):\n",
    "    return 2 * (precision * recall) / (precision + recall)"
   ]
  },
  {
   "cell_type": "code",
   "execution_count": 44,
   "metadata": {},
   "outputs": [
    {
     "data": {
      "text/plain": [
       "0.9887640449438202"
      ]
     },
     "execution_count": 44,
     "metadata": {},
     "output_type": "execute_result"
    }
   ],
   "source": [
    "# Computing the F1 score on the test data set using the precision and recall you computed above.\n",
    "f1_score(precision, recall)"
   ]
  },
  {
   "cell_type": "code",
   "execution_count": 45,
   "id": "earlier-blast",
   "metadata": {
    "deletable": false,
    "editable": false
   },
   "outputs": [
    {
     "ename": "NameError",
     "evalue": "name 'grader' is not defined",
     "output_type": "error",
     "traceback": [
      "\u001b[1;31m---------------------------------------------------------------------------\u001b[0m",
      "\u001b[1;31mNameError\u001b[0m                                 Traceback (most recent call last)",
      "Cell \u001b[1;32mIn[45], line 1\u001b[0m\n\u001b[1;32m----> 1\u001b[0m grader\u001b[39m.\u001b[39mcheck(\u001b[39m\"\u001b[39m\u001b[39mQ15\u001b[39m\u001b[39m\"\u001b[39m)\n",
      "\u001b[1;31mNameError\u001b[0m: name 'grader' is not defined"
     ]
    }
   ],
   "source": [
    "grader.check(\"Q15\")"
   ]
  },
  {
   "cell_type": "markdown",
   "metadata": {},
   "source": [
    "# Sklearn's implementation of Logistic regression\n",
    "\n",
    "Next, use Sklearn's implementation of Logistic regression.  Once you have your hypothesis you will use your model on the test data and then evaluate how well it did using Sklearn's built in functions to compute the accuracy, precision, recall and F1 score."
   ]
  },
  {
   "cell_type": "markdown",
   "metadata": {},
   "source": [
    "### Fitting Model using Sklearn Library. "
   ]
  },
  {
   "cell_type": "code",
   "execution_count": 46,
   "metadata": {},
   "outputs": [],
   "source": [
    "# TODO - Create object of logistic regression model. So we don't use any regularization, we can set the penalty to `none` or set C to a very large value (for example, C = 100000000), \n",
    "# to make lambda (C = 1/lambda) nearly 0.\n",
    "from sklearn import linear_model\n",
    "logreg = linear_model.LogisticRegression(penalty = 'none')"
   ]
  },
  {
   "cell_type": "code",
   "execution_count": 47,
   "id": "steady-plastic",
   "metadata": {
    "deletable": false,
    "editable": false
   },
   "outputs": [
    {
     "ename": "NameError",
     "evalue": "name 'grader' is not defined",
     "output_type": "error",
     "traceback": [
      "\u001b[1;31m---------------------------------------------------------------------------\u001b[0m",
      "\u001b[1;31mNameError\u001b[0m                                 Traceback (most recent call last)",
      "Cell \u001b[1;32mIn[47], line 1\u001b[0m\n\u001b[1;32m----> 1\u001b[0m grader\u001b[39m.\u001b[39mcheck(\u001b[39m\"\u001b[39m\u001b[39mQ16\u001b[39m\u001b[39m\"\u001b[39m)\n",
      "\u001b[1;31mNameError\u001b[0m: name 'grader' is not defined"
     ]
    }
   ],
   "source": [
    "grader.check(\"Q16\")"
   ]
  },
  {
   "cell_type": "code",
   "execution_count": 48,
   "metadata": {},
   "outputs": [
    {
     "name": "stderr",
     "output_type": "stream",
     "text": [
      "c:\\Python310\\lib\\site-packages\\sklearn\\linear_model\\_logistic.py:1173: FutureWarning: `penalty='none'`has been deprecated in 1.2 and will be removed in 1.4. To keep the past behaviour, set `penalty=None`.\n",
      "  warnings.warn(\n",
      "c:\\Python310\\lib\\site-packages\\sklearn\\utils\\validation.py:1143: DataConversionWarning: A column-vector y was passed when a 1d array was expected. Please change the shape of y to (n_samples, ), for example using ravel().\n",
      "  y = column_or_1d(y, warn=True)\n"
     ]
    },
    {
     "data": {
      "text/html": [
       "<style>#sk-container-id-1 {color: black;background-color: white;}#sk-container-id-1 pre{padding: 0;}#sk-container-id-1 div.sk-toggleable {background-color: white;}#sk-container-id-1 label.sk-toggleable__label {cursor: pointer;display: block;width: 100%;margin-bottom: 0;padding: 0.3em;box-sizing: border-box;text-align: center;}#sk-container-id-1 label.sk-toggleable__label-arrow:before {content: \"▸\";float: left;margin-right: 0.25em;color: #696969;}#sk-container-id-1 label.sk-toggleable__label-arrow:hover:before {color: black;}#sk-container-id-1 div.sk-estimator:hover label.sk-toggleable__label-arrow:before {color: black;}#sk-container-id-1 div.sk-toggleable__content {max-height: 0;max-width: 0;overflow: hidden;text-align: left;background-color: #f0f8ff;}#sk-container-id-1 div.sk-toggleable__content pre {margin: 0.2em;color: black;border-radius: 0.25em;background-color: #f0f8ff;}#sk-container-id-1 input.sk-toggleable__control:checked~div.sk-toggleable__content {max-height: 200px;max-width: 100%;overflow: auto;}#sk-container-id-1 input.sk-toggleable__control:checked~label.sk-toggleable__label-arrow:before {content: \"▾\";}#sk-container-id-1 div.sk-estimator input.sk-toggleable__control:checked~label.sk-toggleable__label {background-color: #d4ebff;}#sk-container-id-1 div.sk-label input.sk-toggleable__control:checked~label.sk-toggleable__label {background-color: #d4ebff;}#sk-container-id-1 input.sk-hidden--visually {border: 0;clip: rect(1px 1px 1px 1px);clip: rect(1px, 1px, 1px, 1px);height: 1px;margin: -1px;overflow: hidden;padding: 0;position: absolute;width: 1px;}#sk-container-id-1 div.sk-estimator {font-family: monospace;background-color: #f0f8ff;border: 1px dotted black;border-radius: 0.25em;box-sizing: border-box;margin-bottom: 0.5em;}#sk-container-id-1 div.sk-estimator:hover {background-color: #d4ebff;}#sk-container-id-1 div.sk-parallel-item::after {content: \"\";width: 100%;border-bottom: 1px solid gray;flex-grow: 1;}#sk-container-id-1 div.sk-label:hover label.sk-toggleable__label {background-color: #d4ebff;}#sk-container-id-1 div.sk-serial::before {content: \"\";position: absolute;border-left: 1px solid gray;box-sizing: border-box;top: 0;bottom: 0;left: 50%;z-index: 0;}#sk-container-id-1 div.sk-serial {display: flex;flex-direction: column;align-items: center;background-color: white;padding-right: 0.2em;padding-left: 0.2em;position: relative;}#sk-container-id-1 div.sk-item {position: relative;z-index: 1;}#sk-container-id-1 div.sk-parallel {display: flex;align-items: stretch;justify-content: center;background-color: white;position: relative;}#sk-container-id-1 div.sk-item::before, #sk-container-id-1 div.sk-parallel-item::before {content: \"\";position: absolute;border-left: 1px solid gray;box-sizing: border-box;top: 0;bottom: 0;left: 50%;z-index: -1;}#sk-container-id-1 div.sk-parallel-item {display: flex;flex-direction: column;z-index: 1;position: relative;background-color: white;}#sk-container-id-1 div.sk-parallel-item:first-child::after {align-self: flex-end;width: 50%;}#sk-container-id-1 div.sk-parallel-item:last-child::after {align-self: flex-start;width: 50%;}#sk-container-id-1 div.sk-parallel-item:only-child::after {width: 0;}#sk-container-id-1 div.sk-dashed-wrapped {border: 1px dashed gray;margin: 0 0.4em 0.5em 0.4em;box-sizing: border-box;padding-bottom: 0.4em;background-color: white;}#sk-container-id-1 div.sk-label label {font-family: monospace;font-weight: bold;display: inline-block;line-height: 1.2em;}#sk-container-id-1 div.sk-label-container {text-align: center;}#sk-container-id-1 div.sk-container {/* jupyter's `normalize.less` sets `[hidden] { display: none; }` but bootstrap.min.css set `[hidden] { display: none !important; }` so we also need the `!important` here to be able to override the default hidden behavior on the sphinx rendered scikit-learn.org. See: https://github.com/scikit-learn/scikit-learn/issues/21755 */display: inline-block !important;position: relative;}#sk-container-id-1 div.sk-text-repr-fallback {display: none;}</style><div id=\"sk-container-id-1\" class=\"sk-top-container\"><div class=\"sk-text-repr-fallback\"><pre>LogisticRegression(penalty=&#x27;none&#x27;)</pre><b>In a Jupyter environment, please rerun this cell to show the HTML representation or trust the notebook. <br />On GitHub, the HTML representation is unable to render, please try loading this page with nbviewer.org.</b></div><div class=\"sk-container\" hidden><div class=\"sk-item\"><div class=\"sk-estimator sk-toggleable\"><input class=\"sk-toggleable__control sk-hidden--visually\" id=\"sk-estimator-id-1\" type=\"checkbox\" checked><label for=\"sk-estimator-id-1\" class=\"sk-toggleable__label sk-toggleable__label-arrow\">LogisticRegression</label><div class=\"sk-toggleable__content\"><pre>LogisticRegression(penalty=&#x27;none&#x27;)</pre></div></div></div></div></div>"
      ],
      "text/plain": [
       "LogisticRegression(penalty='none')"
      ]
     },
     "execution_count": 48,
     "metadata": {},
     "output_type": "execute_result"
    }
   ],
   "source": [
    "# TODO Q17\n",
    "# Fit the model\n",
    "# Don't use matrix X_train_1. Instead, use X_train.\n",
    "logreg.fit(X_train, y_2d_train)"
   ]
  },
  {
   "cell_type": "code",
   "execution_count": 49,
   "id": "weighted-israeli",
   "metadata": {
    "deletable": false,
    "editable": false
   },
   "outputs": [
    {
     "ename": "NameError",
     "evalue": "name 'grader' is not defined",
     "output_type": "error",
     "traceback": [
      "\u001b[1;31m---------------------------------------------------------------------------\u001b[0m",
      "\u001b[1;31mNameError\u001b[0m                                 Traceback (most recent call last)",
      "Cell \u001b[1;32mIn[49], line 1\u001b[0m\n\u001b[1;32m----> 1\u001b[0m grader\u001b[39m.\u001b[39mcheck(\u001b[39m\"\u001b[39m\u001b[39mQ17\u001b[39m\u001b[39m\"\u001b[39m)\n",
      "\u001b[1;31mNameError\u001b[0m: name 'grader' is not defined"
     ]
    }
   ],
   "source": [
    "grader.check(\"Q17\")"
   ]
  },
  {
   "cell_type": "markdown",
   "metadata": {
    "deletable": false,
    "editable": false
   },
   "source": [
    "<!-- BEGIN QUESTION -->\n",
    "\n",
    "<!--\n",
    "BEGIN QUESTION\n",
    "name: Q19\n",
    "manual: true\n",
    "points:\n",
    "  each: 1\n",
    "-->"
   ]
  },
  {
   "cell_type": "code",
   "execution_count": 50,
   "metadata": {},
   "outputs": [],
   "source": [
    "# TODO Q18\n",
    "# Print out all the coefficients\n",
    "w_logreg = logreg.coef_\n",
    "intercept_logreg = logreg.intercept_"
   ]
  },
  {
   "cell_type": "code",
   "execution_count": 51,
   "id": "hollow-trauma",
   "metadata": {
    "deletable": false,
    "editable": false
   },
   "outputs": [
    {
     "ename": "NameError",
     "evalue": "name 'grader' is not defined",
     "output_type": "error",
     "traceback": [
      "\u001b[1;31m---------------------------------------------------------------------------\u001b[0m",
      "\u001b[1;31mNameError\u001b[0m                                 Traceback (most recent call last)",
      "Cell \u001b[1;32mIn[51], line 1\u001b[0m\n\u001b[1;32m----> 1\u001b[0m grader\u001b[39m.\u001b[39mcheck(\u001b[39m\"\u001b[39m\u001b[39mQ19\u001b[39m\u001b[39m\"\u001b[39m)\n",
      "\u001b[1;31mNameError\u001b[0m: name 'grader' is not defined"
     ]
    }
   ],
   "source": [
    "grader.check(\"Q19\")"
   ]
  },
  {
   "cell_type": "markdown",
   "id": "working-noise",
   "metadata": {
    "deletable": false,
    "editable": false
   },
   "source": [
    "<!-- END QUESTION -->"
   ]
  },
  {
   "cell_type": "code",
   "execution_count": 52,
   "metadata": {},
   "outputs": [
    {
     "name": "stdout",
     "output_type": "stream",
     "text": [
      "Q18 - w_logreg:  [[ 3.21265445e+01 -3.67500814e+01  8.96378206e+01  2.08510804e-01\n",
      "  -6.62958810e+01  5.59451477e+02 -1.66230805e+02 -4.47828457e+02\n",
      "   1.46775811e+02 -3.01305135e+02 -5.68784465e+02  9.19162884e+01\n",
      "   1.05851940e+02 -3.31865228e+02 -9.81284297e+01 -1.36604335e+02\n",
      "   8.95153556e+01 -1.94703588e+02  2.32709190e+02  3.83006543e+02\n",
      "  -2.06734995e+02 -2.43403434e+02  1.34920487e+02 -2.11740414e+02\n",
      "   1.60316007e+02  1.53893713e+02 -4.30161161e+02 -9.42312091e+01\n",
      "  -4.14308722e+02  1.58362178e+01]]\n",
      "Q18 - intercept_logreg:  [-71.38178004]\n"
     ]
    }
   ],
   "source": [
    "# VERIFY - Compare the parameters computed by logreg model and gradient ascent. They should be nearly same.\n",
    "print('Q18 - w_logreg: ', w_logreg)\n",
    "print('Q18 - intercept_logreg: ', intercept_logreg)"
   ]
  },
  {
   "cell_type": "markdown",
   "metadata": {},
   "source": [
    "### Performance measure: accuracy"
   ]
  },
  {
   "cell_type": "code",
   "execution_count": 53,
   "metadata": {},
   "outputs": [
    {
     "name": "stdout",
     "output_type": "stream",
     "text": [
      "Q19 - Accuracy on training data = 0.944056\n"
     ]
    }
   ],
   "source": [
    "# TODO Q19\n",
    "# Find the predicted values on test set (X_test not X_test_1) using logreg.predict\n",
    "y_hat_logreg = logreg.predict(X_test)\n",
    "\n",
    "# Find the accuracy achieved on test set using logreg.score and y_test \n",
    "acc_logreg = logreg.score(X_test, y_2d_test)\n",
    "\n",
    "print(\"Q19 - Accuracy on training data = %f\" % acc_logreg)"
   ]
  },
  {
   "cell_type": "code",
   "execution_count": 54,
   "id": "ordinary-delight",
   "metadata": {
    "deletable": false,
    "editable": false
   },
   "outputs": [
    {
     "ename": "NameError",
     "evalue": "name 'grader' is not defined",
     "output_type": "error",
     "traceback": [
      "\u001b[1;31m---------------------------------------------------------------------------\u001b[0m",
      "\u001b[1;31mNameError\u001b[0m                                 Traceback (most recent call last)",
      "Cell \u001b[1;32mIn[54], line 1\u001b[0m\n\u001b[1;32m----> 1\u001b[0m grader\u001b[39m.\u001b[39mcheck(\u001b[39m\"\u001b[39m\u001b[39mQ18\u001b[39m\u001b[39m\"\u001b[39m)\n",
      "\u001b[1;31mNameError\u001b[0m: name 'grader' is not defined"
     ]
    }
   ],
   "source": [
    "grader.check(\"Q18\")"
   ]
  },
  {
   "cell_type": "markdown",
   "metadata": {},
   "source": [
    "### Performance Metrics: precision, recall, F1 score\n"
   ]
  },
  {
   "cell_type": "code",
   "execution_count": 55,
   "metadata": {},
   "outputs": [],
   "source": [
    "from sklearn.metrics import precision_recall_fscore_support\n",
    "# TODO Q20\n",
    "# Find Precision, recall and fscore using precision_recall_fscore_support nethod of sklearn\n",
    "# Using y_test and y_hat_logreg\n",
    "prec, recal, fscore, sup = precision_recall_fscore_support(y_2d_test, y_hat_logreg)"
   ]
  },
  {
   "cell_type": "code",
   "execution_count": 56,
   "id": "chinese-dealer",
   "metadata": {
    "deletable": false,
    "editable": false
   },
   "outputs": [
    {
     "ename": "NameError",
     "evalue": "name 'grader' is not defined",
     "output_type": "error",
     "traceback": [
      "\u001b[1;31m---------------------------------------------------------------------------\u001b[0m",
      "\u001b[1;31mNameError\u001b[0m                                 Traceback (most recent call last)",
      "Cell \u001b[1;32mIn[56], line 1\u001b[0m\n\u001b[1;32m----> 1\u001b[0m grader\u001b[39m.\u001b[39mcheck(\u001b[39m\"\u001b[39m\u001b[39mQ20\u001b[39m\u001b[39m\"\u001b[39m)\n",
      "\u001b[1;31mNameError\u001b[0m: name 'grader' is not defined"
     ]
    }
   ],
   "source": [
    "grader.check(\"Q20\")"
   ]
  },
  {
   "cell_type": "code",
   "execution_count": 57,
   "metadata": {},
   "outputs": [
    {
     "name": "stdout",
     "output_type": "stream",
     "text": [
      "Q20 - prec:  [0.88333333 0.98795181]\n",
      "Q20 - recal:  [0.98148148 0.92134831]\n",
      "Q20 - fscore:  [0.92982456 0.95348837]\n"
     ]
    }
   ],
   "source": [
    "# VERIFY\n",
    "print('Q20 - prec: ', prec)\n",
    "print('Q20 - recal: ', recal)\n",
    "print('Q20 - fscore: ', fscore)"
   ]
  },
  {
   "cell_type": "markdown",
   "metadata": {},
   "source": [
    "# Experiment!  Run your gradient ascent algorithm without scaling the training dataset.  \n",
    "What did you notice.  Describe the best hyperparamters  you found (i.e. `learning_rate`, and `num_iters`)"
   ]
  },
  {
   "cell_type": "code",
   "execution_count": null,
   "metadata": {},
   "outputs": [],
   "source": [
    "# The best hyperparameters I found to train without scaling were learning_rate=0.01 and num_iters=1000. This gave a precision and recall of (0.9550561797752809, 0.9550561797752809)"
   ]
  }
 ],
 "metadata": {
  "kernelspec": {
   "display_name": "Python 3 (ipykernel)",
   "language": "python",
   "name": "python3"
  },
  "language_info": {
   "codemirror_mode": {
    "name": "ipython",
    "version": 3
   },
   "file_extension": ".py",
   "mimetype": "text/x-python",
   "name": "python",
   "nbconvert_exporter": "python",
   "pygments_lexer": "ipython3",
   "version": "3.10.6"
  }
 },
 "nbformat": 4,
 "nbformat_minor": 2
}
